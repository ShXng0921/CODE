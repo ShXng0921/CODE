{
 "cells": [
  {
   "cell_type": "code",
   "execution_count": 1,
   "id": "0bb7790e-aacd-4d7a-bc7f-0c1ab89faec9",
   "metadata": {},
   "outputs": [],
   "source": [
    "import os\n",
    "import pandas as pd\n"
   ]
  },
  {
   "cell_type": "code",
   "execution_count": 2,
   "id": "98e86e23-f78b-4f40-b5b7-5e7213063bc0",
   "metadata": {
    "jupyter": {
     "source_hidden": true
    }
   },
   "outputs": [
    {
     "name": "stdout",
     "output_type": "stream",
     "text": [
      "All entries in the 'Description' column have been converted to strings.\n"
     ]
    }
   ],
   "source": [
    "import pandas as pd\n",
    "# 假设文件名为 'your_file.csv'\n",
    "file_path = '/share/home/pwmat/Huggingface_Model_Downloades/model_test_ChemDFM-13B-v1.0/allwords_bandgap_0.9_1.4_data/common_PV_materials_and_vectors/generalization_description_vectors.csv'\n",
    "# 读取文件\n",
    "data = pd.read_csv(file_path)\n",
    "# 确保 Description 列的内容全为字符串\n",
    "if 'Description' in data.columns:\n",
    "    data['Description'] = data['Description'].astype(str)\n",
    "# 保存修改后的文件\n",
    "data.to_csv(file_path, index=False)\n",
    "print(\"All entries in the 'Description' column have been converted to strings.\")\n"
   ]
  },
  {
   "cell_type": "code",
   "execution_count": 3,
   "id": "d603b527-587c-46ef-893c-7e7e9bcfe133",
   "metadata": {
    "jupyter": {
     "source_hidden": true
    }
   },
   "outputs": [
    {
     "name": "stdout",
     "output_type": "stream",
     "text": [
      "Original columns: ['Word' 'dim_0' 'dim_1' ... 'dim_5117' 'dim_5118' 'dim_5119']\n",
      "Updated columns: ['Word' 'dim_0' 'dim_1' ... 'dim_5117' 'dim_5118' 'dim_5119']\n"
     ]
    }
   ],
   "source": [
    "import pandas as pd\n",
    "# 读取文件\n",
    "data = pd.read_csv(file_path)\n",
    "data.iloc[:, 0] = data.iloc[:, 0].astype(str)  # 将第一列强制为字符串\n",
    "\n",
    "# 打印原始列名\n",
    "print(\"Original columns:\", data.columns.values)\n",
    "# 修改第一列的列名\n",
    "data.rename(columns={data.columns[0]: \"Word\"}, inplace=True)\n",
    "for i in range(5120):\n",
    "    data.rename(columns={data.columns[i + 1]: f\"dim_{i}\"}, inplace=True)\n",
    "# 打印修改后的列名\n",
    "print(\"Updated columns:\", data.columns.values)\n",
    "# 保存修改后的文件\n",
    "data.to_csv(file_path, index=False)"
   ]
  },
  {
   "cell_type": "code",
   "execution_count": 2,
   "id": "99fe4242-83fc-49a7-8e7b-9b9725c58206",
   "metadata": {},
   "outputs": [],
   "source": [
    "def merge_csv_files(input_folder, output_file):\n",
    "    \"\"\"\n",
    "    合并指定文件夹中的多个 CSV 文件，生成一个合并后的文件。\n",
    "    \n",
    "    参数:\n",
    "        input_folder (str): 包含 CSV 文件的文件夹路径\n",
    "        output_file (str): 合并后保存的文件路径\n",
    "    \"\"\"\n",
    "    # 获取文件夹中所有的 CSV 文件\n",
    "    csv_files = [os.path.join(input_folder, file) for file in os.listdir(input_folder) if file.endswith(\".csv\")]\n",
    "    \n",
    "    # 初始化一个空的列表，用于存储所有数据框\n",
    "    data_frames = []\n",
    "\n",
    "    # 遍历每个 CSV 文件并加载为 DataFrame\n",
    "    for csv_file in csv_files:\n",
    "        print(f\"正在加载文件: {csv_file}\")\n",
    "        df = pd.read_csv(csv_file)\n",
    "        data_frames.append(df)\n",
    "\n",
    "    # 合并所有 DataFrame\n",
    "    combined_df = pd.concat(data_frames, ignore_index=True)\n",
    "\n",
    "    # 保存到输出文件\n",
    "    combined_df.to_csv(output_file, index=False)\n",
    "    print(f\"所有文件已合并并保存到: {output_file}\")\n"
   ]
  },
  {
   "cell_type": "code",
   "execution_count": 3,
   "id": "d8b6f6b5-e69f-4a84-8b95-0dff038a725b",
   "metadata": {},
   "outputs": [
    {
     "name": "stdout",
     "output_type": "stream",
     "text": [
      "正在加载文件: /share/home/pwmat/Huggingface_Model_Downloades/model_test_ChemDFM-13B-v1.0/allwords_bandgap_0.9_1.4_data/common_PV_materials_and_vectors/PV_mat.csv\n",
      "正在加载文件: /share/home/pwmat/Huggingface_Model_Downloades/model_test_ChemDFM-13B-v1.0/allwords_bandgap_0.9_1.4_data/common_PV_materials_and_vectors/PV_terms.csv\n",
      "正在加载文件: /share/home/pwmat/Huggingface_Model_Downloades/model_test_ChemDFM-13B-v1.0/allwords_bandgap_0.9_1.4_data/common_PV_materials_and_vectors/ChatGPT_describe_PVmaterials_vectors.csv\n",
      "正在加载文件: /share/home/pwmat/Huggingface_Model_Downloades/model_test_ChemDFM-13B-v1.0/allwords_bandgap_0.9_1.4_data/common_PV_materials_and_vectors/expertise_description_vectors-Copy1.csv\n",
      "正在加载文件: /share/home/pwmat/Huggingface_Model_Downloades/model_test_ChemDFM-13B-v1.0/allwords_bandgap_0.9_1.4_data/common_PV_materials_and_vectors/generalization_description_vectors-Copy1.csv\n",
      "正在加载文件: /share/home/pwmat/Huggingface_Model_Downloades/model_test_ChemDFM-13B-v1.0/allwords_bandgap_0.9_1.4_data/common_PV_materials_and_vectors/generalization_description_vectors.csv\n",
      "正在加载文件: /share/home/pwmat/Huggingface_Model_Downloades/model_test_ChemDFM-13B-v1.0/allwords_bandgap_0.9_1.4_data/common_PV_materials_and_vectors/expertise_description_vectors-Copy2.csv\n",
      "正在加载文件: /share/home/pwmat/Huggingface_Model_Downloades/model_test_ChemDFM-13B-v1.0/allwords_bandgap_0.9_1.4_data/common_PV_materials_and_vectors/PV_terms-Copy1.csv\n",
      "正在加载文件: /share/home/pwmat/Huggingface_Model_Downloades/model_test_ChemDFM-13B-v1.0/allwords_bandgap_0.9_1.4_data/common_PV_materials_and_vectors/PV_terms-Copy2.csv\n",
      "正在加载文件: /share/home/pwmat/Huggingface_Model_Downloades/model_test_ChemDFM-13B-v1.0/allwords_bandgap_0.9_1.4_data/common_PV_materials_and_vectors/PV_terms-Copy3.csv\n",
      "正在加载文件: /share/home/pwmat/Huggingface_Model_Downloades/model_test_ChemDFM-13B-v1.0/allwords_bandgap_0.9_1.4_data/common_PV_materials_and_vectors/PV_terms-Copy4.csv\n",
      "正在加载文件: /share/home/pwmat/Huggingface_Model_Downloades/model_test_ChemDFM-13B-v1.0/allwords_bandgap_0.9_1.4_data/common_PV_materials_and_vectors/robo_describe_PVMat.csv\n",
      "正在加载文件: /share/home/pwmat/Huggingface_Model_Downloades/model_test_ChemDFM-13B-v1.0/allwords_bandgap_0.9_1.4_data/common_PV_materials_and_vectors/robo_describe_PVMat-Copy1.csv\n",
      "所有文件已合并并保存到: /share/home/pwmat/Huggingface_Model_Downloades/model_test_ChemDFM-13B-v1.0/allwords_bandgap_0.9_1.4_data/common_PV_materials_and_vectors/merged_vectors.csv\n"
     ]
    }
   ],
   "source": [
    "# 示例用法\n",
    "input_folder = \"/share/home/pwmat/Huggingface_Model_Downloades/model_test_ChemDFM-13B-v1.0/allwords_bandgap_0.9_1.4_data/common_PV_materials_and_vectors\"  # 替换为包含 CSV 文件的文件夹路径\n",
    "output_file = \"/share/home/pwmat/Huggingface_Model_Downloades/model_test_ChemDFM-13B-v1.0/allwords_bandgap_0.9_1.4_data/common_PV_materials_and_vectors/merged_vectors.csv\"  # 替换为合并后的文件路径\n",
    "merge_csv_files(input_folder, output_file)"
   ]
  },
  {
   "cell_type": "code",
   "execution_count": 4,
   "id": "c9f9cb1c-76b1-45d1-8630-4b3bf6227971",
   "metadata": {},
   "outputs": [
    {
     "name": "stdout",
     "output_type": "stream",
     "text": [
      "数据维度: (446, 5120)\n",
      "Photovoltaic materials 的语义特征向量 (加权平均):\n",
      "[-0.25992844 -0.34394482 -0.08905637 ... -0.07522975  0.75947138\n",
      "  0.09649982]\n",
      "向量维度: (5120,)\n",
      "主成分向量已保存到: principal_vector.csv\n"
     ]
    }
   ],
   "source": [
    "import pandas as pd\n",
    "import numpy as np\n",
    "\n",
    "input_folder = \"/share/home/pwmat/Huggingface_Model_Downloades/model_test_ChemDFM-13B-v1.0/allwords_bandgap_0.9_1.4_data/common_PV_materials_and_vectors\"\n",
    "# 加载 CSV 文件\n",
    "input_file = input_folder + \"/merged_vectors.csv\" # 替换为您的实际文件路径\n",
    "data = pd.read_csv(input_file)\n",
    "\n",
    "# 提取向量部分（从第二列开始）\n",
    "description_vectors = data.iloc[:, 1:].values  # 提取向量部分为 NumPy 数组\n",
    "\n",
    "# 检查数据维度\n",
    "print(f\"数据维度: {description_vectors.shape}\")  # 应为 (num_descriptions, 5120)\n",
    "\n",
    "# 使用加权平均法提取共同特征\n",
    "mean_vector = np.mean(description_vectors, axis=0)  # 计算每一列的平均值作为共同特征向量\n",
    "\n",
    "# 检查结果向量\n",
    "print(\"Photovoltaic materials 的语义特征向量 (加权平均):\")\n",
    "print(mean_vector)\n",
    "print(\"向量维度:\", mean_vector.shape)\n",
    "\n",
    "# 准备保存的 DataFrame，第一列为 \"Photovoltaic materials\"，后续列为向量值\n",
    "output_data = pd.DataFrame(\n",
    "    data=[[\"PV Materials\"] + mean_vector.tolist()],  # 插入词汇及向量\n",
    "    columns=[\"Word\"] + [f\"dim_{i}\" for i in range(len(mean_vector))]\n",
    ")\n",
    "\n",
    "# 保存到 CSV 文件\n",
    "output_file = \"principal_vector.csv\"\n",
    "output_data.to_csv(output_file, index=False)\n",
    "print(f\"主成分向量已保存到: {output_file}\")"
   ]
  },
  {
   "cell_type": "code",
   "execution_count": null,
   "id": "11a2ac9d-fe2c-4163-8599-f4183e207c28",
   "metadata": {},
   "outputs": [],
   "source": []
  }
 ],
 "metadata": {
  "kernelspec": {
   "display_name": "llm",
   "language": "python",
   "name": "llm"
  },
  "language_info": {
   "codemirror_mode": {
    "name": "ipython",
    "version": 3
   },
   "file_extension": ".py",
   "mimetype": "text/x-python",
   "name": "python",
   "nbconvert_exporter": "python",
   "pygments_lexer": "ipython3",
   "version": "3.10.13"
  }
 },
 "nbformat": 4,
 "nbformat_minor": 5
}
