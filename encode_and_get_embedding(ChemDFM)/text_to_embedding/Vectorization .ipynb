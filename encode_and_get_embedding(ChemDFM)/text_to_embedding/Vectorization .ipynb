{
 "cells": [
  {
   "cell_type": "code",
   "execution_count": 5,
   "id": "acf59cb9-f005-46d6-a233-0c264fb1bf33",
   "metadata": {},
   "outputs": [
    {
     "name": "stdout",
     "output_type": "stream",
     "text": [
      "Available GPUs: 4\n",
      "GPU 0: NVIDIA GeForce RTX 4090 D\n",
      "GPU 1: NVIDIA GeForce RTX 4090 D\n",
      "GPU 2: NVIDIA GeForce RTX 4090 D\n",
      "GPU 3: NVIDIA GeForce RTX 4090 D\n"
     ]
    },
    {
     "data": {
      "application/vnd.jupyter.widget-view+json": {
       "model_id": "c7021ac8e27742149a1c7a67b1f83ad4",
       "version_major": 2,
       "version_minor": 0
      },
      "text/plain": [
       "Loading checkpoint shards:   0%|          | 0/6 [00:00<?, ?it/s]"
      ]
     },
     "metadata": {},
     "output_type": "display_data"
    },
    {
     "name": "stdout",
     "output_type": "stream",
     "text": [
      "\n",
      "Model loaded on devices:\n",
      " - cuda:0\n"
     ]
    }
   ],
   "source": [
    "import torch\n",
    "from transformers import LlamaTokenizer, LlamaForCausalLM, GenerationConfig\n",
    "import os\n",
    "\n",
    "# 显示可用 GPU 信息\n",
    "if torch.cuda.is_available():\n",
    "    print(f\"Available GPUs: {torch.cuda.device_count()}\")\n",
    "    for i in range(torch.cuda.device_count()):\n",
    "        print(f\"GPU {i}: {torch.cuda.get_device_name(i)}\")\n",
    "else:\n",
    "    print(\"No GPU available.\")\n",
    "\n",
    "# 加载模型和分词器\n",
    "model_name_or_id = \"/share/home/pwmat/Huggingface_Model_Downloades/ChemDFM-13B-v1.0\"\n",
    "tokenizer = LlamaTokenizer.from_pretrained(model_name_or_id)\n",
    "model = LlamaForCausalLM.from_pretrained(model_name_or_id, torch_dtype=torch.float16, device_map=\"auto\")\n",
    "\n",
    "# 查看模型实际分配到的 GPU\n",
    "print(\"\\nModel loaded on devices:\")\n",
    "for param in model.parameters():\n",
    "    if param.device.type == \"cuda\":\n",
    "        print(f\" - {param.device}\")\n",
    "        device = \"cuda\"\n",
    "    break  # 只需查看一个参数的设备分配\n",
    "\n"
   ]
  },
  {
   "cell_type": "code",
   "execution_count": 6,
   "id": "69e0e891-edbc-40bf-b630-91133ce5d0dd",
   "metadata": {},
   "outputs": [],
   "source": [
    "# 获取模型支持的最大 token 数\n",
    "max_tokens = model.config.max_position_embeddings\n",
    "def get_text_vector(text, model, tokenizer, max_tokens=2048, window_size=512, stride=256):\n",
    "    \"\"\"\n",
    "    获取文本的向量化表示，根据长度选择滑动窗口法或直接编码。\n",
    "    \n",
    "    参数:\n",
    "        text (str): 输入文本\n",
    "        model: 已加载的语言模型\n",
    "        tokenizer: 模型的分词器\n",
    "        max_tokens (int): 模型支持的最大 token 数\n",
    "        window_size (int): 滑动窗口的大小（适用于长文本）\n",
    "        stride (int): 滑动窗口的步长（适用于长文本）\n",
    "        \n",
    "    返回:\n",
    "        vector (np.ndarray): 文本的向量化表示\n",
    "    \"\"\"\n",
    "    # 分词并计算 token 数\n",
    "    inputs = tokenizer(text, return_tensors=\"pt\", truncation=False, padding=False)\n",
    "    token_count = inputs[\"input_ids\"].shape[1]\n",
    "    \n",
    "    if token_count <= max_tokens:\n",
    "        # 短文本直接编码\n",
    "        print(\"短文本直接编码......\")\n",
    "        inputs = tokenizer(text, return_tensors=\"pt\", truncation=True, padding=True, max_length=max_tokens).to(device)\n",
    "        with torch.no_grad():\n",
    "            outputs = model(**inputs, output_hidden_states=True)\n",
    "        hidden_states = outputs.hidden_states[-1]\n",
    "        vector = hidden_states.mean(dim=1).squeeze().cpu().numpy()\n",
    "    else:\n",
    "        print(\"使用滑动窗口法处理长文本......\")\n",
    "        # 长文本使用滑动窗口法\n",
    "        tokens = inputs[\"input_ids\"][0]\n",
    "        segments = [\n",
    "            tokens[i:i + window_size] for i in range(0, len(tokens), stride) if i + window_size <= len(tokens)\n",
    "        ]\n",
    "        \n",
    "        segment_vectors = []\n",
    "        for segment in segments:\n",
    "            segment_input = {\"input_ids\": segment.unsqueeze(0).to(device)}\n",
    "            with torch.no_grad():\n",
    "                outputs = model(**segment_input, output_hidden_states=True)\n",
    "            hidden_states = outputs.hidden_states[-1]\n",
    "            segment_vector = hidden_states.mean(dim=1).squeeze().cpu().numpy()\n",
    "            segment_vectors.append(segment_vector)\n",
    "        \n",
    "        # 聚合所有子段的向量表示\n",
    "        vector = np.mean(segment_vectors, axis=0)\n",
    "    \n",
    "    return vector\n"
   ]
  },
  {
   "cell_type": "code",
   "execution_count": 7,
   "id": "988152ff-2234-41a3-a4a3-f2f8fd7895e3",
   "metadata": {},
   "outputs": [
    {
     "name": "stdout",
     "output_type": "stream",
     "text": [
      "短文本直接编码......\n",
      "[ 0.51   -0.8125 -0.575  ...  0.2129 -0.6196  0.4744]\n",
      "短文本向量维度: (5120,)\n",
      "使用滑动窗口法处理长文本......\n",
      "[ 0.01031 -0.4126  -0.981   ...  0.7314   0.375    0.6035 ]\n",
      "长文本向量维度: (5120,)\n"
     ]
    }
   ],
   "source": [
    "import numpy as np\n",
    "# 示例文本\n",
    "short_text = \"This is a short example of photovoltaic materials description.\"\n",
    "long_text = \"Mg7Cu17O24 crystallizes in the orthorhombic Pmm2 space group. There are five inequivalent Mg sites. In the first Mg site, Mg(1) is bonded to one O(5), one O(9), two equivalent O(1), and two equivalent O(2) atoms to form MgO6 octahedra that share corners with two equivalent Mg(1)O6 octahedra, edges with two equivalent Mg(2)O6 octahedra, and edges with two equivalent Cu(6)O5 square pyramids. The corner-sharing octahedral tilt angles range from 18-20°. The Mg(1)-O(5) bond length is 2.05 Å. The Mg(1)-O(9) bond length is 2.05 Å. Both Mg(1)-O(1) bond lengths are 2.15 Å. Both Mg(1)-O(2) bond lengths are 2.20 Å. In the second Mg site, Mg(2) is bonded to one O(10), one O(6), two equivalent O(1), and two equivalent O(2) atoms to form MgO6 octahedra that share corners with two equivalent Mg(2)O6 octahedra, edges with two equivalent Mg(1)O6 octahedra, and edges with two equivalent Cu(6)O5 square pyramids. The corner-sharing octahedral tilt angles are 20°. The Mg(2)-O(10) bond length is 2.05 Å. The Mg(2)-O(6) bond length is 2.06 Å. Both Mg(2)-O(1) bond lengths are 2.20 Å. Both Mg(2)-O(2) bond lengths are 2.15 Å. In the third Mg site, Mg(3) is bonded to two equivalent O(3), two equivalent O(7), and two equivalent O(8) atoms to form a mixture of edge and corner-sharing MgO6 octahedra. The corner-sharing octahedral tilt angles are 20°. Both Mg(3)-O(3) bond lengths are 2.05 Å. Both Mg(3)-O(7) bond lengths are 2.20 Å. Both Mg(3)-O(8) bond lengths are 2.15 Å. In the fourth Mg site, Mg(4) is bonded to two equivalent O(4), two equivalent O(7), and two equivalent O(8) atoms to form MgO6 octahedra that share corners with two equivalent Cu(7)O6 octahedra and edges with two equivalent Mg(3)O6 octahedra. The corner-sharing octahedral tilt angles are 22°. Both Mg(4)-O(4) bond lengths are 2.10 Å. Both Mg(4)-O(7) bond lengths are 2.13 Å. Both Mg(4)-O(8) bond lengths are 2.17 Å. In the fifth Mg site, Mg(5) is bonded to two equivalent O(11), two equivalent O(12), and two equivalent O(3) atoms to form MgO6 octahedra that share corners with two equivalent Mg(3)O6 octahedra, corners with two equivalent Cu(6)O5 square pyramids, and edges with two equivalent Cu(7)O6 octahedra. The corner-sharing octahedral tilt angles are 20°. Both Mg(5)-O(11) bond lengths are 2.19 Å. Both Mg(5)-O(12) bond lengths are 2.15 Å. Both Mg(5)-O(3) bond lengths are 2.05 Å. There are seven inequivalent Cu sites. In the first Cu site, Cu(1) is bonded in a distorted rectangular see-saw-like geometry to one O(1), one O(11), one O(3), and one O(7) atom. The Cu(1)-O(1) bond length is 1.95 Å. The Cu(1)-O(11) bond length is 2.02 Å. The Cu(1)-O(3) bond length is 1.92 Å. The Cu(1)-O(7) bond length is 2.04 Å. In the second Cu site, Cu(2) is bonded in a distorted rectangular see-saw-like geometry to one O(12), one O(2), one O(4), and one O(8) atom. The Cu(2)-O(12) bond length is 2.02 Å. The Cu(2)-O(2) bond length is 1.95 Å. The Cu(2)-O(4) bond length is 1.92 Å. The Cu(2)-O(8) bond length is 2.04 Å. In the third Cu site, Cu(3) is bonded in a distorted rectangular see-saw-like geometry to one O(5), one O(8), and two equivalent O(2) atoms. The Cu(3)-O(5) bond length is 1.93 Å. The Cu(3)-O(8) bond length is 1.97 Å. Both Cu(3)-O(2) bond lengths are 2.04 Å. In the fourth Cu site, Cu(4) is bonded in a distorted rectangular see-saw-like geometry to one O(6), one O(7), and two equivalent O(1) atoms. The Cu(4)-O(6) bond length is 1.93 Å. The Cu(4)-O(7) bond length is 1.96 Å. Both Cu(4)-O(1) bond lengths are 2.03 Å. In the fifth Cu site, Cu(5) is bonded in a distorted rectangular see-saw-like geometry to one O(12), one O(9), and two equivalent O(2) atoms. The Cu(5)-O(12) bond length is 1.93 Å. The Cu(5)-O(9) bond length is 1.91 Å. Both Cu(5)-O(2) bond lengths are 2.03 Å. In the sixth Cu site, Cu(6) is bonded to one O(10), one O(11), one O(9), and two equivalent O(1) atoms to form distorted CuO5 square pyramids that share  a cornercorner with one Mg(5)O6 octahedra,  a cornercorner with one Cu(7)O6 octahedra, edges with two equivalent Mg(1)O6 octahedra, edges with two equivalent Mg(2)O6 octahedra, and  an edgeedge with one Cu(6)O5 square pyramid. The corner-sharing octahedral tilt angles range from 15-78°. The Cu(6)-O(10) bond length is 1.92 Å. The Cu(6)-O(11) bond length is 1.95 Å. The Cu(6)-O(9) bond length is 2.58 Å. Both Cu(6)-O(1) bond lengths are 2.03 Å. In the seventh Cu site, Cu(7) is bonded to two equivalent O(11), two equivalent O(12), and two equivalent O(4) atoms to form CuO6 octahedra that share corners with two equivalent Mg(4)O6 octahedra, corners with two equivalent Cu(6)O5 square pyramids, and edges with two equivalent Mg(5)O6 octahedra. The corner-sharing octahedral tilt angles are 22°. Both Cu(7)-O(11) bond lengths are 2.20 Å. Both Cu(7)-O(12) bond lengths are 2.28 Å. Both Cu(7)-O(4) bond lengths are 2.02 Å. There are twelve inequivalent O sites. In the first O site, O(1) is bonded to one Mg(1), one Mg(2), one Cu(1), one Cu(4), and one Cu(6) atom to form OMg2Cu3 square pyramids that share corners with two equivalent O(1)Mg2Cu3 square pyramids, corners with four equivalent O(2)Mg2Cu3 square pyramids,  an edgeedge with one O(1)Mg2Cu3 square pyramid,  an edgeedge with one O(7)Mg2Cu3 square pyramid, and  an edgeedge with one O(11)MgCu4 square pyramid. In the second O site, O(2) is bonded to one Mg(1), one Mg(2), one Cu(2), one Cu(3), and one Cu(5) atom to form OMg2Cu3 square pyramids that share corners with two equivalent O(2)Mg2Cu3 square pyramids, corners with four equivalent O(1)Mg2Cu3 square pyramids,  an edgeedge with one O(2)Mg2Cu3 square pyramid,  an edgeedge with one O(8)Mg2Cu3 square pyramid, and  an edgeedge with one O(12)MgCu4 square pyramid. In the third O site, O(3) is bonded in a 4-coordinate geometry to one Mg(3), one Mg(5), and two equivalent Cu(1) atoms. In the fourth O site, O(4) is bonded in a 4-coordinate geometry to one Mg(4), one Cu(7), and two equivalent Cu(2) atoms. In the fifth O site, O(5) is bonded in a 4-coordinate geometry to two equivalent Mg(1) and two equivalent Cu(3) atoms. In the sixth O site, O(6) is bonded in a 4-coordinate geometry to two equivalent Mg(2) and two equivalent Cu(4) atoms. In the seventh O site, O(7) is bonded to one Mg(3), one Mg(4), one Cu(4), and two equivalent Cu(1) atoms to form OMg2Cu3 square pyramids that share corners with two equivalent O(11)MgCu4 square pyramids, corners with four equivalent O(8)Mg2Cu3 square pyramids,  an edgeedge with one O(7)Mg2Cu3 square pyramid, and edges with two equivalent O(1)Mg2Cu3 square pyramids. In the eighth O site, O(8) is bonded to one Mg(3), one Mg(4), one Cu(3), and two equivalent Cu(2) atoms to form OMg2Cu3 square pyramids that share corners with two equivalent O(12)MgCu4 square pyramids, corners with four equivalent O(7)Mg2Cu3 square pyramids,  an edgeedge with one O(8)Mg2Cu3 square pyramid, and edges with two equivalent O(2)Mg2Cu3 square pyramids. In the ninth O site, O(9) is bonded in a 6-coordinate geometry to two equivalent Mg(1), two equivalent Cu(5), and two equivalent Cu(6) atoms. In the tenth O site, O(10) is bonded in a distorted see-saw-like geometry to two equivalent Mg(2) and two equivalent Cu(6) atoms. In the eleventh O site, O(11) is bonded to one Mg(5), one Cu(6), one Cu(7), and two equivalent Cu(1) atoms to form distorted OMgCu4 square pyramids that share corners with two equivalent O(7)Mg2Cu3 square pyramids, corners with four equivalent O(12)MgCu4 square pyramids,  an edgeedge with one O(11)MgCu4 square pyramid, and edges with two equivalent O(1)Mg2Cu3 square pyramids. In the twelfth O site, O(12) is bonded to one Mg(5), one Cu(5), one Cu(7), and two equivalent Cu(2) atoms to form distorted OMgCu4 square pyramids that share corners with two equivalent O(8)Mg2Cu3 square pyramids, corners with four equivalent O(11)MgCu4 square pyramids,  an edgeedge with one O(12)MgCu4 square pyramid, and edges with two equivalent O(2)Mg2Cu3 square pyramids.\"  # 超长文本示例\n",
    "\n",
    "# 获取短文本向量表示\n",
    "short_vector = get_text_vector(short_text, model, tokenizer, max_tokens=max_tokens)\n",
    "print(short_vector)\n",
    "print(\"短文本向量维度:\", short_vector.shape)\n",
    "\n",
    "# 获取长文本向量表示\n",
    "long_vector = get_text_vector(long_text, model, tokenizer, max_tokens=max_tokens)\n",
    "print(long_vector)\n",
    "print(\"长文本向量维度:\", long_vector.shape)"
   ]
  },
  {
   "cell_type": "code",
   "execution_count": 8,
   "id": "dda2b3d3-b6b0-41c3-9879-2a02b4c00224",
   "metadata": {},
   "outputs": [
    {
     "name": "stdout",
     "output_type": "stream",
     "text": [
      "正在处理文本: PMMA...\n",
      "短文本直接编码......\n",
      "正在处理文本: PC...\n",
      "短文本直接编码......\n",
      "正在处理文本: PET...\n",
      "短文本直接编码......\n",
      "正在处理文本: PACM12...\n",
      "短文本直接编码......\n",
      "正在处理文本: C28H44N2O23S·Na...\n",
      "短文本直接编码......\n",
      "正在处理文本: (C₂H₃Cl)ₙ...\n",
      "短文本直接编码......\n",
      "正在处理文本: Al23O27N5...\n",
      "短文本直接编码......\n",
      "正在处理文本: Na2O·CaO·6SiO2...\n",
      "短文本直接编码......\n",
      "结果已保存到 transparent.csv\n"
     ]
    }
   ],
   "source": [
    "import ast\n",
    "import pandas as pd\n",
    "# 读取文本文件\n",
    "def read_texts_from_file(file_path):\n",
    "    with open(file_path, \"r\", encoding=\"utf-8\") as file:\n",
    "        content = file.read()\n",
    "    texts = ast.literal_eval(content)  # 将字符串解析为 Python 列表\n",
    "    return texts\n",
    "\n",
    "# 主函数：处理文本并保存到 CSV 文件\n",
    "def process_texts_to_csv(input_file, output_csv, model, tokenizer, max_tokens=2048):\n",
    "    # 读取文本列表\n",
    "    texts = read_texts_from_file(input_file)\n",
    "    \n",
    "    # 初始化存储向量的列表\n",
    "    data = []\n",
    "\n",
    "    for text in texts:\n",
    "        # 获取向量表示\n",
    "        print(f\"正在处理文本: {text[:30]}...\")  # 打印前30字符用于调试\n",
    "        vector = get_text_vector(text, model, tokenizer, max_tokens=max_tokens)\n",
    "        \n",
    "        # 保存文本及其对应向量\n",
    "        data.append([text] + vector.tolist())\n",
    "    \n",
    "    # 创建列名：第一列为 \"Word\"，后续为 \"dim_0\" 到 \"dim_5119\"\n",
    "    column_names = [\"Word\"] + [f\"dim_{i}\" for i in range(5120)]\n",
    "    \n",
    "    # 将数据转换为 DataFrame\n",
    "    df = pd.DataFrame(data, columns=column_names)\n",
    "    \n",
    "    # 保存为 CSV 文件\n",
    "    df.to_csv(output_csv, index=False, encoding=\"utf-8\")\n",
    "    print(f\"结果已保存到 {output_csv}\")\n",
    "\n",
    "# 设置输入文件路径和输出文件路径\n",
    "input_file = \"mat.txt\"  # 替换为你的文本文件名\n",
    "output_csv = \"transparent.csv\"\n",
    "\n",
    "# 调用主函数\n",
    "process_texts_to_csv(input_file, output_csv, model, tokenizer, max_tokens=2048)"
   ]
  },
  {
   "cell_type": "code",
   "execution_count": null,
   "id": "3002820e-fdfa-43a4-a8c8-a58138139008",
   "metadata": {},
   "outputs": [],
   "source": []
  }
 ],
 "metadata": {
  "kernelspec": {
   "display_name": "llm",
   "language": "python",
   "name": "llm"
  },
  "language_info": {
   "codemirror_mode": {
    "name": "ipython",
    "version": 3
   },
   "file_extension": ".py",
   "mimetype": "text/x-python",
   "name": "python",
   "nbconvert_exporter": "python",
   "pygments_lexer": "ipython3",
   "version": "3.10.13"
  }
 },
 "nbformat": 4,
 "nbformat_minor": 5
}
