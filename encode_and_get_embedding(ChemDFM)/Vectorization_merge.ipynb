{
 "cells": [
  {
   "cell_type": "code",
   "execution_count": 7,
   "id": "0bb7790e-aacd-4d7a-bc7f-0c1ab89faec9",
   "metadata": {},
   "outputs": [],
   "source": [
    "import os\n",
    "import pandas as pd\n"
   ]
  },
  {
   "cell_type": "code",
   "execution_count": 8,
   "id": "99fe4242-83fc-49a7-8e7b-9b9725c58206",
   "metadata": {},
   "outputs": [],
   "source": [
    "def merge_csv_files(input_folder, output_file):\n",
    "    \"\"\"\n",
    "    合并指定文件夹中的多个 CSV 文件，生成一个合并后的文件。\n",
    "    \n",
    "    参数:\n",
    "        input_folder (str): 包含 CSV 文件的文件夹路径\n",
    "        output_file (str): 合并后保存的文件路径\n",
    "    \"\"\"\n",
    "    # 获取文件夹中所有的 CSV 文件\n",
    "    csv_files = [os.path.join(input_folder, file) for file in os.listdir(input_folder) if file.endswith(\".csv\")]\n",
    "    \n",
    "    # 初始化一个空的列表，用于存储所有数据框\n",
    "    data_frames = []\n",
    "\n",
    "    # 遍历每个 CSV 文件并加载为 DataFrame\n",
    "    for csv_file in csv_files:\n",
    "        print(f\"正在加载文件: {csv_file}\")\n",
    "        df = pd.read_csv(csv_file)\n",
    "        data_frames.append(df)\n",
    "\n",
    "    # 合并所有 DataFrame\n",
    "    combined_df = pd.concat(data_frames, ignore_index=True)\n",
    "\n",
    "    # 保存到输出文件\n",
    "    combined_df.to_csv(output_file, index=False)\n",
    "    print(f\"所有文件已合并并保存到: {output_file}\")\n"
   ]
  },
  {
   "cell_type": "code",
   "execution_count": 9,
   "id": "d8b6f6b5-e69f-4a84-8b95-0dff038a725b",
   "metadata": {},
   "outputs": [
    {
     "name": "stdout",
     "output_type": "stream",
     "text": [
      "正在加载文件: /share/home/pwmat/Huggingface_Model_Downloades/model_test_ChemDFM-13B-v1.0/!!!encode_and_get_embedding/ChemDFM_get_targetwords_description&vectors/expertise_description_vectors.csv\n",
      "正在加载文件: /share/home/pwmat/Huggingface_Model_Downloades/model_test_ChemDFM-13B-v1.0/!!!encode_and_get_embedding/ChemDFM_get_targetwords_description&vectors/generalization_description_vectors.csv\n",
      "所有文件已合并并保存到: merged_vectors.csv\n"
     ]
    }
   ],
   "source": [
    "# 示例用法\n",
    "input_folder = \"/share/home/pwmat/Huggingface_Model_Downloades/model_test_ChemDFM-13B-v1.0/!!!encode_and_get_embedding/ChemDFM_get_targetwords_description&vectors\"  # 替换为包含 CSV 文件的文件夹路径\n",
    "output_file = \"merged_vectors.csv\"  # 替换为合并后的文件路径\n",
    "merge_csv_files(input_folder, output_file)"
   ]
  },
  {
   "cell_type": "code",
   "execution_count": 14,
   "id": "c9f9cb1c-76b1-45d1-8630-4b3bf6227971",
   "metadata": {},
   "outputs": [
    {
     "name": "stdout",
     "output_type": "stream",
     "text": [
      "数据维度: (40, 5120)\n",
      "Photovoltaic materials 的语义特征向量 (PCA):\n",
      "[0.02587777 0.00020042 0.00128274 ... 0.02206823 0.02194165 0.00735359]\n",
      "向量维度: (5120,)\n",
      "主成分向量已保存到: principal_vector.csv\n"
     ]
    }
   ],
   "source": [
    "import pandas as pd\n",
    "from sklearn.decomposition import PCA\n",
    "\n",
    "# 加载 CSV 文件\n",
    "input_file = \"merged_vectors.csv\"  # 替换为您的实际文件路径\n",
    "data = pd.read_csv(input_file)\n",
    "\n",
    "# 提取向量部分（从第二列开始）\n",
    "description_vectors = data.iloc[:, 1:].values  # 提取向量部分为 NumPy 数组\n",
    "\n",
    "# 检查数据维度\n",
    "print(f\"数据维度: {description_vectors.shape}\")  # 应为 (num_descriptions, 5120)\n",
    "\n",
    "# 使用 PCA 提取主成分\n",
    "pca = PCA(n_components=1)  # 仅提取第一主成分\n",
    "principal_component = pca.fit_transform(description_vectors)  # 获取每个向量在主成分方向的投影\n",
    "\n",
    "# 提取第一主成分向量\n",
    "principal_vector = pca.components_[0]  # 主成分向量\n",
    "\n",
    "print(\"Photovoltaic materials 的语义特征向量 (PCA):\")\n",
    "print(principal_vector)\n",
    "print(\"向量维度:\", principal_vector.shape)\n",
    "\n",
    "# 准备保存的 DataFrame，第一列为 \"Photovoltaic materials\"，后续列为向量值\n",
    "output_data = pd.DataFrame(\n",
    "    data=[[\"Photovoltaic materials\"] + principal_vector.tolist()],  # 插入词汇及向量\n",
    "    columns=[\"Word\"] + [f\"Dim_{i}\" for i in range(len(principal_vector))]\n",
    ")\n",
    "\n",
    "# 保存到 CSV 文件\n",
    "output_file = \"principal_vector.csv\"\n",
    "output_data.to_csv(output_file, index=False)\n",
    "print(f\"主成分向量已保存到: {output_file}\")\n"
   ]
  },
  {
   "cell_type": "code",
   "execution_count": null,
   "id": "11a2ac9d-fe2c-4163-8599-f4183e207c28",
   "metadata": {},
   "outputs": [],
   "source": []
  }
 ],
 "metadata": {
  "kernelspec": {
   "display_name": "llm",
   "language": "python",
   "name": "llm"
  },
  "language_info": {
   "codemirror_mode": {
    "name": "ipython",
    "version": 3
   },
   "file_extension": ".py",
   "mimetype": "text/x-python",
   "name": "python",
   "nbconvert_exporter": "python",
   "pygments_lexer": "ipython3",
   "version": "3.10.13"
  }
 },
 "nbformat": 4,
 "nbformat_minor": 5
}
