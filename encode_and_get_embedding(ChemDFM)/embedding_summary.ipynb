{
 "cells": [
  {
   "cell_type": "code",
   "execution_count": 1,
   "id": "48df6751-59ad-4938-b1de-2ce806d025e7",
   "metadata": {},
   "outputs": [
    {
     "name": "stdout",
     "output_type": "stream",
     "text": [
      "Available GPUs: 4\n",
      "GPU 0: NVIDIA GeForce RTX 4090 D\n",
      "GPU 1: NVIDIA GeForce RTX 4090 D\n",
      "GPU 2: NVIDIA GeForce RTX 4090 D\n",
      "GPU 3: NVIDIA GeForce RTX 4090 D\n"
     ]
    },
    {
     "data": {
      "application/vnd.jupyter.widget-view+json": {
       "model_id": "df1f7421346445b495735bec91edf54c",
       "version_major": 2,
       "version_minor": 0
      },
      "text/plain": [
       "Loading checkpoint shards:   0%|          | 0/6 [00:00<?, ?it/s]"
      ]
     },
     "metadata": {},
     "output_type": "display_data"
    },
    {
     "name": "stdout",
     "output_type": "stream",
     "text": [
      "\n",
      "Model loaded on devices:\n",
      " - cuda:0\n"
     ]
    }
   ],
   "source": [
    "import torch\n",
    "from transformers import LlamaTokenizer, LlamaForCausalLM, GenerationConfig\n",
    "import os\n",
    "\n",
    "# 显示可用 GPU 信息\n",
    "if torch.cuda.is_available():\n",
    "    print(f\"Available GPUs: {torch.cuda.device_count()}\")\n",
    "    for i in range(torch.cuda.device_count()):\n",
    "        print(f\"GPU {i}: {torch.cuda.get_device_name(i)}\")\n",
    "else:\n",
    "    print(\"No GPU available.\")\n",
    "\n",
    "# 加载模型和分词器\n",
    "model_name_or_id = \"/share/home/pwmat/Huggingface_Model_Downloades/ChemDFM-13B-v1.0\"\n",
    "tokenizer = LlamaTokenizer.from_pretrained(model_name_or_id)\n",
    "model = LlamaForCausalLM.from_pretrained(model_name_or_id, torch_dtype=torch.float16, device_map=\"auto\")\n",
    "\n",
    "# 查看模型实际分配到的 GPU\n",
    "print(\"\\nModel loaded on devices:\")\n",
    "for param in model.parameters():\n",
    "    if param.device.type == \"cuda\":\n",
    "        print(f\" - {param.device}\")\n",
    "    break  # 只需查看一个参数的设备分配\n"
   ]
  },
  {
   "cell_type": "code",
   "execution_count": 5,
   "id": "405cb548-2016-4fd3-b8e9-35f948fc71fc",
   "metadata": {
    "collapsed": true,
    "jupyter": {
     "outputs_hidden": true,
     "source_hidden": true
    }
   },
   "outputs": [
    {
     "name": "stderr",
     "output_type": "stream",
     "text": [
      "/share/home/pwmat/anaconda3/envs/llm/lib/python3.10/site-packages/transformers/generation/configuration_utils.py:590: UserWarning: `do_sample` is set to `False`. However, `temperature` is set to `0.5` -- this flag is only used in sample-based generation modes. You should set `do_sample=True` or unset `temperature`. This was detected when initializing the generation config instance, which means the corresponding file may hold incorrect parameterization and should be fixed.\n",
      "  warnings.warn(\n",
      "/share/home/pwmat/anaconda3/envs/llm/lib/python3.10/site-packages/transformers/generation/configuration_utils.py:590: UserWarning: `do_sample` is set to `False`. However, `temperature` is set to `0.5` -- this flag is only used in sample-based generation modes. You should set `do_sample=True` or unset `temperature`.\n",
      "  warnings.warn(\n"
     ]
    },
    {
     "name": "stdout",
     "output_type": "stream",
     "text": [
      " Sure! Here are some common materials used in solar cells and their corresponding chemical formulas:\n",
      "1. Silicon (Si) - this is the most commonly used material for solar cells due to its high efficiency and abundance. It forms tetrahedral molecules with four bonds to other silicon atoms.\n",
      "2. Gallium Arsenide (GaAs) - this material has a higher absorption coefficient than silicon, making it more efficient at converting sunlight into electricity. Its formula is GaAs.\n",
      "3. Cadmium Telluride (CdTe) - this material also has a high absorption coefficient and is less expensive to produce than silicon-based cells. Its formula is CdTe.\n",
      "4. Copper Indium Gallium Selenide (CIGS) - this material has similar properties to cadmium telluride but is even cheaper to produce. Its formula is Cu(In, Ga)(Se)2.\n",
      "5. Perovskite - this material has gained attention recently as a low-cost alternative to traditional solar cell materials. Its formula varies depending on the specific perovskite compound, but generally involves a combination of metal cations and hal\n"
     ]
    }
   ],
   "source": [
    "# 定义 prompt\n",
    "input_text = (\n",
    "    \"List strictly the chemical formulas of photovoltaic materials or potential photovoltaic materials. \"\n",
    "    \"Do not include names, examples, or descriptions. Only provide chemical formulas.\"\n",
    ")\n",
    "input_text = f\"[Round 0]\\nHuman: {input_text}\\nAssistant:\"\n",
    "\n",
    "# 分词输入\n",
    "inputs = tokenizer(input_text, return_tensors=\"pt\").to(\"cuda\")\n",
    "\n",
    "# 配置生成参数\n",
    "generation_config = GenerationConfig(\n",
    "    do_sample=False,  # 禁用随机采样\n",
    "    temperature=0.5,  # 更保守的生成\n",
    "    max_new_tokens=256,  # 限制生成长度\n",
    "    repetition_penalty=1.2,\n",
    "    eos_token_id=tokenizer.eos_token_id,\n",
    ")\n",
    "\n",
    "# 生成文本\n",
    "with torch.no_grad():\n",
    "    outputs = model.generate(**inputs, generation_config=generation_config)\n",
    "\n",
    "# 解码生成结果\n",
    "generated_text = tokenizer.batch_decode(outputs, skip_special_tokens=True)[0][len(input_text):]\n",
    "print(generated_text)"
   ]
  },
  {
   "cell_type": "code",
   "execution_count": 2,
   "id": "9c726eaa-619b-4b30-af4e-ada1a686755e",
   "metadata": {},
   "outputs": [
    {
     "name": "stdout",
     "output_type": "stream",
     "text": [
      "生成的描述:\n",
      " Photovoltaic materials are characterized by their ability to convert sunlight directly into electricity. Key properties include high absorption coefficients, low resistivity, and long carrier lifetimes. Common components include silicon-based materials, thin-film technologies such as cadmium telluride (CdTe) or copper indium gallium selenide (CIGS), and perovskite compounds. These materials undergo photovoltaic processes like photoexcitation, carrier transport, and collection, resulting in electric current.\n"
     ]
    }
   ],
   "source": [
    "# 定义 Prompt\n",
    "input_text = (\n",
    "    \"Describe the key characteristics, properties, and components of photovoltaic materials in a concise, \"\n",
    "    \"representative manner. Use technical language, and highlight the most significant aspects.\"\n",
    ")\n",
    "input_text = f\"[Round 0]\\nHuman: {input_text}\\nAssistant:\"\n",
    "\n",
    "# 分词输入\n",
    "inputs = tokenizer(input_text, return_tensors=\"pt\").to(\"cuda\")\n",
    "\n",
    "# 配置生成参数\n",
    "generation_config = GenerationConfig(\n",
    "    do_sample=True,  # 开启随机采样生成，允许模型以非确定性方式生成文本。\n",
    "    top_k=20,   # 限制模型在每一步生成时仅考虑概率前 20 的候选词（减少搜索空间）\n",
    "    top_p=0.9,  # 采用 核采样 (nucleus sampling)，仅累积概率前 90% 的词作为候选。\n",
    "    temperature=0.9, # 控制生成的随机性，值越低生成越保守，值越高生成越多样。\n",
    "    max_new_tokens=1024, # 允许生成的最大 token 数。\n",
    "    repetition_penalty=1.05, # 惩罚重复生成的词，使得生成的文本更多样。\n",
    "    eos_token_id=tokenizer.eos_token_id  # 生成遇到结束标记时停止。\n",
    ")\n",
    "\n",
    "# 生成文本\n",
    "with torch.no_grad():\n",
    "    outputs = model.generate(**inputs, generation_config=generation_config)\n",
    "\n",
    "# 解码生成结果\n",
    "generated_text = tokenizer.batch_decode(outputs, skip_special_tokens=True)[0][len(input_text):]\n",
    "\n",
    "print(\"生成的描述:\")\n",
    "print(generated_text)"
   ]
  },
  {
   "cell_type": "code",
   "execution_count": 10,
   "id": "61437668-921d-4291-a502-453e7dcbaf5e",
   "metadata": {
    "collapsed": true,
    "jupyter": {
     "outputs_hidden": true,
     "source_hidden": true
    }
   },
   "outputs": [
    {
     "name": "stdout",
     "output_type": "stream",
     "text": [
      "[ 0.49    -0.07166 -0.3694  ...  0.872    0.1774   0.641  ]\n",
      "描述的词向量维度: (5120,)\n"
     ]
    }
   ],
   "source": [
    "# 对生成的描述进行编码\n",
    "inputs = tokenizer(generated_text, return_tensors=\"pt\", padding=True, truncation=True).to(\"cuda\")\n",
    "\n",
    "with torch.no_grad():\n",
    "    outputs = model(**inputs, output_hidden_states=True)\n",
    "\n",
    "# 提取最后一层隐藏状态，并计算描述的整体词向量\n",
    "hidden_states = outputs.hidden_states[-1]  # (batch_size, seq_len, hidden_size)\n",
    "description_vector = hidden_states.mean(dim=1).squeeze().cpu().numpy()\n",
    "print(description_vector)\n",
    "print(\"描述的词向量维度:\", description_vector.shape)\n"
   ]
  },
  {
   "cell_type": "code",
   "execution_count": 5,
   "id": "08d6cb7a-bb05-4065-a551-f1573fc2c7c1",
   "metadata": {
    "collapsed": true,
    "jupyter": {
     "outputs_hidden": true
    }
   },
   "outputs": [
    {
     "name": "stdout",
     "output_type": "stream",
     "text": [
      "生成的描述0\n",
      " Photovoltaic materials are characterized by their ability to convert sunlight directly into electricity through the photovoltaic effect. These materials are typically based on semiconductors, such as silicon, and exhibit a range of properties that make them suitable for this purpose. These include:\n",
      "1. Bandgap energy: The bandgap energy determines the amount of energy required to excite an electron from the valence band to the conduction band, which is crucial for generating electric current.\n",
      "2. Conductivity type: Photovoltaic materials can be either n-type (containing excess electrons) or p-type (containing excess holes). The combination of these types forms a pn junction, which is essential for the photovoltaic effect.\n",
      "3. Carrier mobility: High carrier mobility enables efficient transport of charge carriers, reducing recombination losses and improving overall efficiency.\n",
      "4. Transparency: Transparent conductive oxides like indium tin oxide (ITO) allow light to pass through while facilitating electron flow.\n",
      "Key components of photovoltaic cells include the semiconductor material, which serves as the light-absorbing layer; metal contacts, which form electrical connections; and antireflective coatings, which minimize reflection losses and maximize light absorption. Overall, the efficiency of a photovoltaic material is determined by its ability to convert sunlight into electricity, which is influenced by factors such as material composition, crystal structure, and surface morphology.\n",
      "生成的描述1\n",
      " Photovoltaic (PV) materials are characterized by their ability to convert sunlight directly into electricity through the photovoltaic effect. These materials have several key properties, including:\n",
      "1. Bandgap: The energy difference between the valence band and the conduction band. This determines the wavelength of light that can be absorbed by the material.\n",
      "2. Light absorption: PV materials should have high absorbance in the visible and near-infrared regions of the spectrum.\n",
      "3. Carrier mobility: High carrier mobility allows for efficient transport of charge within the material.\n",
      "4. Lifetime of charge carriers: PV materials should have long carrier lifetimes to prevent recombination losses.\n",
      "5. Conductivity type: N-type and P-type semiconductors are commonly used in PV devices.\n",
      "The most common PV materials include silicon-based materials like crystalline silicon (c-Si) and thin-film silicon (TFS), as well as non-silicon materials such as cadmium telluride (CdTe), copper indium gallium selenide (CIGS), and perovskites. These materials are typically fabricated into solar cells through processes such as chemical vapor deposition, physical vapor deposition, and solution-based techniques.\n",
      "生成的描述2\n",
      " Photovoltaic (PV) materials are characterized by their ability to convert sunlight into electrical energy through the photovoltaic effect. Some key characteristics and properties of PV materials include:\n",
      "1. semiconductor nature - PV materials are typically semiconductors, which have a small bandgap that allows them to absorb specific wavelengths of light.\n",
      "2. absorption spectrum - PV materials should have a strong absorption spectrum in the visible and near-infrared regions of the electromagnetic spectrum to efficiently capture sunlight.\n",
      "3. carrier lifetime and mobility - The lifetime and mobility of charge carriers in PV materials play a crucial role in determining their efficiency. Longer carrier lifetimes and higher carrier mobility lead to improved performance.\n",
      "4. stability and durability - PV materials must be stable under prolonged exposure to sunlight and environmental factors to ensure long-term performance and reliability.\n",
      "5. cost-effectiveness - PV materials should be abundant, low-cost, and easily processed to make them commercially viable for large-scale deployment.\n",
      "Some common PV materials include silicon (Si), cadmium telluride (CdTe), copper indium gallium selenide (CIGS), and perovskite. Each material has its unique properties and applications, with Si being the most widely used due to its maturity and reliability.\n",
      "生成的描述3\n",
      " Photovoltaic materials are characterized by their ability to convert sunlight directly into electricity. Some of the most common photovoltaic materials include silicon, cadmium telluride, and copper indium gallium selenide. These materials have several properties that make them suitable for solar energy conversion, including high absorption coefficients for sunlight, low recombination rates of photoexcited charge carriers, and a bandgap energy that matches the peak efficiency of solar cells. The components of photovoltaic materials include p-type semiconductors, n-type semiconductors, and metal contacts. The p-n junction formed between these layers allows the separation and movement of photoexcited electrons and holes, generating an electrical current. Overall, photovoltaic materials play a crucial role in the development of sustainable energy sources and have become increasingly important in reducing our reliance on fossil fuels.\n",
      "生成的描述4\n",
      " Photovoltaic (PV) materials are specialized semiconductors that convert sunlight into electrical energy. The key characteristics of these materials include their ability to absorb photons, or particles of light, which excite electrons and generate a flow of electric current. The most common PV materials include silicon (Si), cadmium telluride (CdTe), and copper indium gallium selenide (CIGS). These materials exhibit unique properties, such as high efficiency, long-term stability, and low cost. Additionally, PV materials require minimal maintenance and have no moving parts, making them ideal for large-scale solar power installations. The components of PV materials include crystalline or amorphous silicon cells, thin-film cells, and multi-junction cells, each with its own set of advantages and disadvantages.\n",
      "生成的描述5\n",
      " Photovoltaic materials are characterized by their ability to convert sunlight directly into electricity through the photovoltaic effect. These materials have several key properties that make them suitable for this application: they absorb light across a wide range of wavelengths, exhibit low levels of resistance, and have long carrier lifetimes. Components commonly used in photovoltaic materials include semiconductors like silicon, which is widely used due to its abundance and excellent efficiency, as well as other materials such as thin-film technologies like cadmium telluride and copper indium gallium selenide. These materials are often treated with antireflective coatings to maximize light absorption and with passivation layers to reduce recombination losses. Overall, photovoltaic materials are essential for harnessing solar energy to generate clean, renewable electricity.\n",
      "生成的描述6\n",
      " Photovoltaic materials are characterized by their ability to convert sunlight into electricity through the photovoltaic effect. The key properties of these materials include a direct bandgap, high absorption efficiency, and long-term stability. Common components of photovoltaic materials include silicon, cadmium telluride, and copper indium gallium selenide (CIGS). These materials are typically used in solar cells to generate electricity from sunlight.\n",
      "生成的描述7\n",
      " Photovoltaic (PV) materials are characterized by their ability to convert sunlight directly into electricity. These materials typically exhibit semiconducting properties and include silicon, thin-film technologies like cadmium telluride (CdTe) or copper indium gallium selenide (CIGS), and organic polymers. Key properties include high efficiency in converting sunlight, good stability over time, and low manufacturing costs. Components include photodiodes that absorb light and generate electron-hole pairs, which then flow through an external circuit to produce electric current.\n",
      "生成的描述8\n",
      " Photovoltaic (PV) materials are specialized semiconductors that convert sunlight into electrical energy. Key characteristics include the ability to absorb photons, generate electron-hole pairs, and facilitate charge transport. Major properties include high absorption coefficients, low electrical resistance, and efficient carrier collection. Common components include silicon-based cells, thin-film solar cells, multi-junction solar cells, and perovskite solar cells.\n",
      "生成的描述9\n",
      " Photovoltaic materials are characterized by their ability to convert sunlight directly into electricity through the photovoltaic effect. These materials typically have a crystalline structure, with a bandgap that allows them to absorb specific wavelengths of light energy. They must also have low resistance and high electrical conductivity. Common photovoltaic materials include silicon-based semiconductors, such as monocrystalline or polycrystalline silicon, as well as thin-film technologies like cadmium telluride (CdTe) or copper indium gallium selenide (CIGS). These materials play a crucial role in solar panels, which generate clean, renewable energy from sunlight.\n",
      "生成的描述10\n",
      " Photovoltaic materials are characterized by their ability to convert sunlight directly into electricity through the photovoltaic effect. These materials have several key properties that make them suitable for this purpose. They are typically semiconductors, meaning they have a narrow bandgap that allows them to absorb specific wavelengths of light. This bandgap is typically between 1.1 and 1.7 eV, corresponding to the visible and near-infrared regions of the electromagnetic spectrum.\n",
      "The most common photovoltaic material is silicon (Si), which has excellent stability, abundance, and well-established manufacturing processes. Other popular materials include cadmium telluride (CdTe) and copper indium gallium selenide (CIGS). These materials can be used in thin-film or wafer-based configurations, depending on the desired applications.\n",
      "The components of a photovoltaic module include the solar cells (made from photovoltaic materials), encapsulation materials to protect against environmental factors, electrical connectors, and back- Contact materials to improve conductivity and minimize energy loss. The module is then interconnected in a series or parallel configuration to form a larger solar array.\n",
      "生成的描述11\n",
      " Photovoltaic materials are characterized by their ability to convert sunlight into electricity through the photovoltaic effect. Key characteristics include light absorption, carrier transport, and stability. Common materials include silicon, thin-film technologies such as cadmium telluride and copper indium gallium selenide, and organic polymers. These materials have unique properties such as bandgaps, carrier mobilities, and lifetimes that affect their efficiency. Commercial solar cells typically consist of a photovoltaic material sandwiched between electrical contacts, with antireflective coatings and protective layers.\n",
      "生成的描述12\n",
      " Photovoltaic materials are characterized by their ability to directly convert sunlight into electricity through the photovoltaic effect. These materials typically exhibit a semiconducting nature, with an energy band structure that allows for efficient absorption and conversion of photons into charge carriers. silicon (Si) is a common semiconductor material used in solar cells due to its abundance, stability, and relatively high efficiency. Other materials such as gallium arsenide (GaAs), copper indium gallium selenide (CIGS), and perovskite have also been explored for photovoltaic applications due to their unique properties, including higher absorption coefficients and flexibility. Key components of photovoltaic devices include the active layer (the semiconducting material), electrodes (to collect and transport charge carriers), and encapsulation materials (to protect the device from environmental factors). Overall, the performance of photovoltaic materials is influenced by factors such as bandgap energy, carrier mobility, defect density, and light absorption efficiency.\n",
      "生成的描述13\n",
      " Photovoltaic (PV) materials are characterized by their ability to convert sunlight directly into electricity. These materials typically have a crystalline structure and are composed of semiconductors such as silicon. The most important property of PV materials is their bandgap energy, which determines how much energy is required to generate an electron-hole pair for electric current flow. Additionally, PV materials should have good light absorption properties to maximize energy conversion efficiency. Promising PV materials include silicon-based compounds like multicrystalline silicon, monocrystalline silicon, and thin-film technology using materials like cadmium telluride, copper indium gallium selenide, and perovskite.\n",
      "生成的描述14\n",
      " Photovoltaic materials are characterized by their ability to convert sunlight into electrical energy through the photovoltaic effect. These materials typically exhibit low electrical resistance and high absorbance of light, particularly in the visible and infrared regions of the spectrum. Key components include semiconductors such as silicon, which form the basis of solar cells, and other materials like gallium arsenide or copper indium gallium selenide that offer higher efficiency. The photovoltaic effect relies on the generation of electron-hole pairs upon exposure to light, followed by their separation and movement through the material under an electric field, ultimately producing an electrical current. This process depends on factors like carrier mobility, bandgap energy, and doping levels in the semiconductor.\n",
      "生成的描述15\n",
      " Photovoltaic (PV) materials are specialized semiconductors that convert sunlight into electricity through the photovoltaic effect. These materials have several key characteristics and properties:\n",
      "1. Bandgap: PV materials have a specific energy bandgap that allows them to absorb specific wavelengths of light. This determines their efficiency and suitability for different applications.\n",
      "2. Conduction band and valence band: These are the energy levels at which electrons can move within the material, affecting its conductivity.\n",
      "3. Carrier mobility: The ability of electrons and holes ( positively charged particles) to move through the material affects the efficiency of PV cells.\n",
      "4. Lifetime of charge carriers: The duration of time that electrons and holes can travel through the material before recombining affects the overall efficiency of PV cells.\n",
      "5. Transparency and reflectivity: The ability of PV materials to transmit or reflect light affects their performance in different applications.\n",
      "Some common PV materials include silicon, cadmium telluride, and copper indium gallium selenide (CIGS). These materials are typically deposited onto substrates such as glass or flexible plastics, and are often doped with impurities to improve their electrical properties. PV cells are typically made up of multiple layers of these materials, each with specific functions such as absorbing light, generating electricity, or facilitating electron flow.\n",
      "生成的描述16\n",
      " Photovoltaic (PV) materials are semiconductors that convert sunlight into electricity through the photovoltaic effect. Key characteristics of PV materials include their ability to absorb light efficiently, generate free charge carriers upon absorption, and have a suitable bandgap for efficient energy conversion. Silicon-based materials, such as crystalline silicon and thin-film silicon, are commonly used PV materials due to their high efficiency, availability, and stability. Other PV materials include cadmium telluride, copper indium gallium selenide, and perovskites. The components of a solar cell, including the PV material, electrodes, and encapsulation layers, play essential roles in determining its performance and durability.\n",
      "生成的描述17\n",
      " Photovoltaic (PV) materials are specialized semiconductors that convert sunlight into electricity through the photovoltaic effect. They typically consist of a crystalline silicon (c-Si) layer, which acts as the light-absorbing semiconductor material. The main characteristics of these materials include their bandgap energy, which determines their ability to absorb specific wavelengths of light, and their carrier mobility, which affects their conductivity and overall performance. PV materials also exhibit excellent stability and reliability, making them suitable for long-term use in various applications. Additionally, they require minimal maintenance and have a low environmental impact, making them an attractive option for renewable energy generation.\n",
      "生成的描述18\n",
      " Photovoltaic (PV) materials are specialized semiconductors that convert sunlight into electricity through the photovoltaic effect. Key characteristics of PV materials include their ability to absorb photons, generate charge carriers, and transport those carriers without significant loss. Common PV materials include silicon-based crystalline and thin-film technologies, as well as emerging materials such as perovskites and organic compounds. These materials typically have a wide bandgap for efficient absorption in the visible spectrum, low carrier recombination rates for high open-circuit voltage, and good stability under prolonged exposure to sunlight. PV materials are often engineered with antireflective coatings, textured surfaces, and passivating layers to enhance light trapping and reduce recombination losses.\n",
      "生成的描述19\n",
      " Photovoltaic materials are characterized by their ability to convert sunlight into electricity through the photovoltaic effect. They typically consist of semiconductor materials like silicon, which has a direct bandgap and can absorb a wide range of wavelengths. Other popular materials include thin-film technologies like cadmium telluride and copper indium gallium selenide, which offer advantages such as flexibility and lower production costs. The efficiency of photovoltaic devices is determined by the materials' bandgap energy, carrier mobility, and recombination losses. Additionally, antireflective coatings, back contacts, and transparent conductive oxides play critical roles in optimizing device performance.\n",
      "20个代表性词向量: [array([ 0.3552 , -0.1963 , -0.5664 , ...,  0.7466 , -0.07056,  0.556  ],\n",
      "      dtype=float16), array([ 0.3086 , -0.2078 , -0.269  , ...,  0.4358 ,  0.03017,  0.4136 ],\n",
      "      dtype=float16), array([ 0.4421, -0.2722, -0.4036, ...,  0.4443,  0.2249,  0.5273],\n",
      "      dtype=float16), array([ 0.443  , -0.10065, -0.6367 , ...,  0.6562 ,  0.1431 ,  0.7925 ],\n",
      "      dtype=float16), array([ 0.553 , -0.3347, -0.55  , ...,  0.7896,  0.267 ,  0.7695],\n",
      "      dtype=float16), array([ 0.6597, -0.2717, -0.5605, ...,  0.6514,  0.0912,  0.767 ],\n",
      "      dtype=float16), array([ 0.4507, -0.2349, -0.4663, ...,  0.6045,  0.33  ,  0.669 ],\n",
      "      dtype=float16), array([ 0.4402, -0.1262, -0.6094, ...,  0.821 ,  0.4521,  0.6235],\n",
      "      dtype=float16), array([ 0.4617, -0.1292, -0.6577, ...,  0.9087,  0.3953,  0.778 ],\n",
      "      dtype=float16), array([ 0.308 , -0.267 , -0.6694, ...,  0.7305,  0.2932,  0.685 ],\n",
      "      dtype=float16), array([ 0.3506, -0.3062, -0.471 , ...,  0.664 ,  0.149 ,  0.517 ],\n",
      "      dtype=float16), array([ 0.599   , -0.1174  , -0.5757  , ...,  0.696   ,  0.015205,\n",
      "        0.6387  ], dtype=float16), array([ 0.1633 , -0.1191 , -0.4062 , ...,  0.867  , -0.02934,  0.4502 ],\n",
      "      dtype=float16), array([ 0.4814, -0.151 , -0.534 , ...,  0.784 ,  0.3682,  0.8623],\n",
      "      dtype=float16), array([ 0.309 , -0.1642, -0.572 , ...,  0.875 ,  0.0755,  0.6245],\n",
      "      dtype=float16), array([ 0.4167 , -0.1742 , -0.37   , ...,  0.6895 ,  0.03113,  0.656  ],\n",
      "      dtype=float16), array([ 0.603 , -0.0876, -0.496 , ...,  0.8003,  0.2559,  0.6675],\n",
      "      dtype=float16), array([ 0.516 , -0.376 , -0.547 , ...,  0.746 ,  0.2441,  0.7734],\n",
      "      dtype=float16), array([ 0.3853, -0.0865, -0.5693, ...,  0.6475,  0.2844,  0.605 ],\n",
      "      dtype=float16), array([ 0.5   , -0.1545, -0.6094, ...,  0.7236,  0.1918,  0.7607],\n",
      "      dtype=float16)]\n",
      "每个代表性词向量维度: 5120\n"
     ]
    }
   ],
   "source": [
    "import numpy as np\n",
    "\n",
    "# 生成多次描述\n",
    "num_generations = 20\n",
    "description_vectors = []\n",
    "description_texts = []  # 存储描述的文本\n",
    "for i in range(num_generations):\n",
    "    with torch.no_grad():\n",
    "        inputs = tokenizer(input_text, return_tensors=\"pt\").to(\"cuda\")\n",
    "        outputs = model.generate(**inputs, generation_config=generation_config)\n",
    "    generated_text = tokenizer.batch_decode(outputs, skip_special_tokens=True)[0][len(input_text):]\n",
    "    print(f\"生成的描述{i}\")\n",
    "    print(generated_text)\n",
    "    # 保存描述文本\n",
    "    description_texts.append(generated_text)\n",
    "    \n",
    "    # 对每次生成的描述进行编码\n",
    "    inputs = tokenizer(generated_text, return_tensors=\"pt\", padding=True, truncation=True).to(\"cuda\")\n",
    "    with torch.no_grad():\n",
    "        outputs = model(**inputs, output_hidden_states=True)\n",
    "    hidden_states = outputs.hidden_states[-1]\n",
    "    vector = hidden_states.mean(dim=1).squeeze().cpu().numpy()\n",
    "    description_vectors.append(vector)\n",
    "\n",
    "print(\"20个代表性词向量:\", description_vectors)\n",
    "print(\"每个代表性词向量维度:\", len(description_vectors[0]))"
   ]
  },
  {
   "cell_type": "code",
   "execution_count": 7,
   "id": "01861094-f881-4a31-9cd9-bc3a8f651112",
   "metadata": {},
   "outputs": [
    {
     "name": "stdout",
     "output_type": "stream",
     "text": [
      "独立生成了 20 个描述，并保存到 generalization_description_vectors.csv\n"
     ]
    }
   ],
   "source": [
    "import pandas as pd\n",
    "# 保存结果到 CSV 文件\n",
    "embedding_columns = [f\"Dim_{i}\" for i in range(len(description_vectors[0]))]\n",
    "df = pd.DataFrame(description_vectors, columns=embedding_columns)\n",
    "df.insert(0, \"Description\", description_texts)\n",
    "output_file = \"generalization_description_vectors.csv\"\n",
    "df.to_csv(output_file, index=False)\n",
    "\n",
    "print(f\"独立生成了 {len(description_texts)} 个描述，并保存到 {output_file}\")"
   ]
  },
  {
   "cell_type": "code",
   "execution_count": 14,
   "id": "4ef00cb7-c4fd-4027-9111-61914f587fc4",
   "metadata": {},
   "outputs": [
    {
     "name": "stdout",
     "output_type": "stream",
     "text": [
      "2048\n",
      "段落的向量表示:\n",
      "[ 0.0595 -0.4854 -0.5864 ...  0.564   0.2854  0.519 ]\n",
      "向量维度: (5120,)\n"
     ]
    }
   ],
   "source": [
    "print(model.config.max_position_embeddings)\n",
    "# 输入段落\n",
    "input_text = (\n",
    "    \"Mg7Cu17O24 crystallizes in the orthorhombic Pmm2 space group. There are five inequivalent Mg sites. In the first Mg site, Mg(1) is bonded to one O(5), one O(9), two equivalent O(1), and two equivalent O(2) atoms to form MgO6 octahedra that share corners with two equivalent Mg(1)O6 octahedra, edges with two equivalent Mg(2)O6 octahedra, and edges with two equivalent Cu(6)O5 square pyramids. The corner-sharing octahedral tilt angles range from 18-20°. The Mg(1)-O(5) bond length is 2.05 Å. The Mg(1)-O(9) bond length is 2.05 Å. Both Mg(1)-O(1) bond lengths are 2.15 Å. Both Mg(1)-O(2) bond lengths are 2.20 Å. In the second Mg site, Mg(2) is bonded to one O(10), one O(6), two equivalent O(1), and two equivalent O(2) atoms to form MgO6 octahedra that share corners with two equivalent Mg(2)O6 octahedra, edges with two equivalent Mg(1)O6 octahedra, and edges with two equivalent Cu(6)O5 square pyramids. The corner-sharing octahedral tilt angles are 20°. The Mg(2)-O(10) bond length is 2.05 Å. The Mg(2)-O(6) bond length is 2.06 Å. Both Mg(2)-O(1) bond lengths are 2.20 Å. Both Mg(2)-O(2) bond lengths are 2.15 Å. In the third Mg site, Mg(3) is bonded to two equivalent O(3), two equivalent O(7), and two equivalent O(8) atoms to form a mixture of edge and corner-sharing MgO6 octahedra. The corner-sharing octahedral tilt angles are 20°. Both Mg(3)-O(3) bond lengths are 2.05 Å. Both Mg(3)-O(7) bond lengths are 2.20 Å. Both Mg(3)-O(8) bond lengths are 2.15 Å. In the fourth Mg site, Mg(4) is bonded to two equivalent O(4), two equivalent O(7), and two equivalent O(8) atoms to form MgO6 octahedra that share corners with two equivalent Cu(7)O6 octahedra and edges with two equivalent Mg(3)O6 octahedra. The corner-sharing octahedral tilt angles are 22°. Both Mg(4)-O(4) bond lengths are 2.10 Å. Both Mg(4)-O(7) bond lengths are 2.13 Å. Both Mg(4)-O(8) bond lengths are 2.17 Å. In the fifth Mg site, Mg(5) is bonded to two equivalent O(11), two equivalent O(12), and two equivalent O(3) atoms to form MgO6 octahedra that share corners with two equivalent Mg(3)O6 octahedra, corners with two equivalent Cu(6)O5 square pyramids, and edges with two equivalent Cu(7)O6 octahedra. The corner-sharing octahedral tilt angles are 20°. Both Mg(5)-O(11) bond lengths are 2.19 Å. Both Mg(5)-O(12) bond lengths are 2.15 Å. Both Mg(5)-O(3) bond lengths are 2.05 Å. There are seven inequivalent Cu sites. In the first Cu site, Cu(1) is bonded in a distorted rectangular see-saw-like geometry to one O(1), one O(11), one O(3), and one O(7) atom. The Cu(1)-O(1) bond length is 1.95 Å. The Cu(1)-O(11) bond length is 2.02 Å. The Cu(1)-O(3) bond length is 1.92 Å. The Cu(1)-O(7) bond length is 2.04 Å. In the second Cu site, Cu(2) is bonded in a distorted rectangular see-saw-like geometry to one O(12), one O(2), one O(4), and one O(8) atom. The Cu(2)-O(12) bond length is 2.02 Å. The Cu(2)-O(2) bond length is 1.95 Å. The Cu(2)-O(4) bond length is 1.92 Å. The Cu(2)-O(8) bond length is 2.04 Å. In the third Cu site, Cu(3) is bonded in a distorted rectangular see-saw-like geometry to one O(5), one O(8), and two equivalent O(2) atoms. The Cu(3)-O(5) bond length is 1.93 Å. The Cu(3)-O(8) bond length is 1.97 Å. Both Cu(3)-O(2) bond lengths are 2.04 Å. In the fourth Cu site, Cu(4) is bonded in a distorted rectangular see-saw-like geometry to one O(6), one O(7), and two equivalent O(1) atoms. The Cu(4)-O(6) bond length is 1.93 Å. The Cu(4)-O(7) bond length is 1.96 Å. Both Cu(4)-O(1) bond lengths are 2.03 Å. In the fifth Cu site, Cu(5) is bonded in a distorted rectangular see-saw-like geometry to one O(12), one O(9), and two equivalent O(2) atoms. The Cu(5)-O(12) bond length is 1.93 Å. The Cu(5)-O(9) bond length is 1.91 Å. Both Cu(5)-O(2) bond lengths are 2.03 Å. In the sixth Cu site, Cu(6) is bonded to one O(10), one O(11), one O(9), and two equivalent O(1) atoms to form distorted CuO5 square pyramids that share  a cornercorner with one Mg(5)O6 octahedra,  a cornercorner with one Cu(7)O6 octahedra, edges with two equivalent Mg(1)O6 octahedra, edges with two equivalent Mg(2)O6 octahedra, and  an edgeedge with one Cu(6)O5 square pyramid. The corner-sharing octahedral tilt angles range from 15-78°. The Cu(6)-O(10) bond length is 1.92 Å. The Cu(6)-O(11) bond length is 1.95 Å. The Cu(6)-O(9) bond length is 2.58 Å. Both Cu(6)-O(1) bond lengths are 2.03 Å. In the seventh Cu site, Cu(7) is bonded to two equivalent O(11), two equivalent O(12), and two equivalent O(4) atoms to form CuO6 octahedra that share corners with two equivalent Mg(4)O6 octahedra, corners with two equivalent Cu(6)O5 square pyramids, and edges with two equivalent Mg(5)O6 octahedra. The corner-sharing octahedral tilt angles are 22°. Both Cu(7)-O(11) bond lengths are 2.20 Å. Both Cu(7)-O(12) bond lengths are 2.28 Å. Both Cu(7)-O(4) bond lengths are 2.02 Å. There are twelve inequivalent O sites. In the first O site, O(1) is bonded to one Mg(1), one Mg(2), one Cu(1), one Cu(4), and one Cu(6) atom to form OMg2Cu3 square pyramids that share corners with two equivalent O(1)Mg2Cu3 square pyramids, corners with four equivalent O(2)Mg2Cu3 square pyramids,  an edgeedge with one O(1)Mg2Cu3 square pyramid,  an edgeedge with one O(7)Mg2Cu3 square pyramid, and  an edgeedge with one O(11)MgCu4 square pyramid. In the second O site, O(2) is bonded to one Mg(1), one Mg(2), one Cu(2), one Cu(3), and one Cu(5) atom to form OMg2Cu3 square pyramids that share corners with two equivalent O(2)Mg2Cu3 square pyramids, corners with four equivalent O(1)Mg2Cu3 square pyramids,  an edgeedge with one O(2)Mg2Cu3 square pyramid,  an edgeedge with one O(8)Mg2Cu3 square pyramid, and  an edgeedge with one O(12)MgCu4 square pyramid. In the third O site, O(3) is bonded in a 4-coordinate geometry to one Mg(3), one Mg(5), and two equivalent Cu(1) atoms. In the fourth O site, O(4) is bonded in a 4-coordinate geometry to one Mg(4), one Cu(7), and two equivalent Cu(2) atoms. In the fifth O site, O(5) is bonded in a 4-coordinate geometry to two equivalent Mg(1) and two equivalent Cu(3) atoms. In the sixth O site, O(6) is bonded in a 4-coordinate geometry to two equivalent Mg(2) and two equivalent Cu(4) atoms. In the seventh O site, O(7) is bonded to one Mg(3), one Mg(4), one Cu(4), and two equivalent Cu(1) atoms to form OMg2Cu3 square pyramids that share corners with two equivalent O(11)MgCu4 square pyramids, corners with four equivalent O(8)Mg2Cu3 square pyramids,  an edgeedge with one O(7)Mg2Cu3 square pyramid, and edges with two equivalent O(1)Mg2Cu3 square pyramids. In the eighth O site, O(8) is bonded to one Mg(3), one Mg(4), one Cu(3), and two equivalent Cu(2) atoms to form OMg2Cu3 square pyramids that share corners with two equivalent O(12)MgCu4 square pyramids, corners with four equivalent O(7)Mg2Cu3 square pyramids,  an edgeedge with one O(8)Mg2Cu3 square pyramid, and edges with two equivalent O(2)Mg2Cu3 square pyramids. In the ninth O site, O(9) is bonded in a 6-coordinate geometry to two equivalent Mg(1), two equivalent Cu(5), and two equivalent Cu(6) atoms. In the tenth O site, O(10) is bonded in a distorted see-saw-like geometry to two equivalent Mg(2) and two equivalent Cu(6) atoms. In the eleventh O site, O(11) is bonded to one Mg(5), one Cu(6), one Cu(7), and two equivalent Cu(1) atoms to form distorted OMgCu4 square pyramids that share corners with two equivalent O(7)Mg2Cu3 square pyramids, corners with four equivalent O(12)MgCu4 square pyramids,  an edgeedge with one O(11)MgCu4 square pyramid, and edges with two equivalent O(1)Mg2Cu3 square pyramids. In the twelfth O site, O(12) is bonded to one Mg(5), one Cu(5), one Cu(7), and two equivalent Cu(2) atoms to form distorted OMgCu4 square pyramids that share corners with two equivalent O(8)Mg2Cu3 square pyramids, corners with four equivalent O(11)MgCu4 square pyramids,  an edgeedge with one O(12)MgCu4 square pyramid, and edges with two equivalent O(2)Mg2Cu3 square pyramids.\"\n",
    ")\n",
    "\n",
    "# 分词并转为张量\n",
    "inputs = tokenizer(input_text, return_tensors=\"pt\", padding=True, truncation=True).to(\"cuda\")\n",
    "\n",
    "# 获取模型的隐藏状态\n",
    "with torch.no_grad():\n",
    "    outputs = model(**inputs, output_hidden_states=True)\n",
    "\n",
    "# 提取最后一层隐藏状态\n",
    "hidden_states = outputs.hidden_states[-1]  # (batch_size, seq_len, hidden_size)\n",
    "\n",
    "# 计算段落的整体表示（取所有 token 的隐藏状态均值）\n",
    "paragraph_vector = hidden_states.mean(dim=1).squeeze().cpu().numpy()\n",
    "\n",
    "print(\"段落的向量表示:\")\n",
    "print(paragraph_vector)\n",
    "print(\"向量维度:\", paragraph_vector.shape)"
   ]
  },
  {
   "cell_type": "code",
   "execution_count": 15,
   "id": "f626bdd7-de04-4fd1-b5e8-c7c131c9adb3",
   "metadata": {},
   "outputs": [
    {
     "name": "stdout",
     "output_type": "stream",
     "text": [
      "[ 0.01031 -0.4126  -0.981   ...  0.7314   0.375    0.6035 ]\n",
      "整体段落向量维度: (5120,)\n"
     ]
    }
   ],
   "source": [
    "import numpy as np\n",
    "\n",
    "window_size = 512  # 每段的 token 数\n",
    "stride = 256       # 滑动窗口的步长\n",
    "\n",
    "# 分割文本为多个子段\n",
    "tokens = tokenizer(input_text, return_tensors=\"pt\", truncation=False)[\"input_ids\"][0]\n",
    "segments = [tokens[i:i + window_size] for i in range(0, len(tokens), stride) if i + window_size <= len(tokens)]\n",
    "\n",
    "# 对每个子段进行编码\n",
    "segment_vectors = []\n",
    "for segment in segments:\n",
    "    inputs = {\"input_ids\": segment.unsqueeze(0).to(\"cuda\")}\n",
    "    with torch.no_grad():\n",
    "        outputs = model(**inputs, output_hidden_states=True)\n",
    "    hidden_states = outputs.hidden_states[-1]\n",
    "    vector = hidden_states.mean(dim=1).squeeze().cpu().numpy()\n",
    "    segment_vectors.append(vector)\n",
    "\n",
    "# 聚合子段向量为全局表示\n",
    "overall_vector = np.mean(segment_vectors, axis=0)\n",
    "print(overall_vector)\n",
    "print(\"整体段落向量维度:\", overall_vector.shape)\n"
   ]
  },
  {
   "cell_type": "code",
   "execution_count": null,
   "id": "5ab55a81-5ae3-4061-ad7c-c75d11db532c",
   "metadata": {},
   "outputs": [],
   "source": []
  }
 ],
 "metadata": {
  "kernelspec": {
   "display_name": "llm",
   "language": "python",
   "name": "llm"
  },
  "language_info": {
   "codemirror_mode": {
    "name": "ipython",
    "version": 3
   },
   "file_extension": ".py",
   "mimetype": "text/x-python",
   "name": "python",
   "nbconvert_exporter": "python",
   "pygments_lexer": "ipython3",
   "version": "3.10.13"
  }
 },
 "nbformat": 4,
 "nbformat_minor": 5
}
