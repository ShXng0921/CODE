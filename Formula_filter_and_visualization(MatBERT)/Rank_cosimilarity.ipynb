{
 "cells": [
  {
   "cell_type": "code",
   "execution_count": 1,
   "id": "0cac0656-b986-437b-ab8a-4d4abdc41aff",
   "metadata": {},
   "outputs": [],
   "source": [
    "import numpy as np\n",
    "from sklearn.manifold import TSNE\n",
    "import torch\n",
    "from transformers import BertConfig, BertModel, BertTokenizer\n",
    "from transformers import BertForMaskedLM, BertTokenizerFast, pipeline\n",
    "from pprint import pprint\n",
    "import numpy as np\n",
    "import matplotlib.pyplot as plt\n",
    "from sklearn.cluster import KMeans\n",
    "from sklearn.decomposition import PCA\n",
    "from umap import UMAP\n",
    "from sklearn.metrics.pairwise import cosine_similarity"
   ]
  },
  {
   "cell_type": "code",
   "execution_count": 2,
   "id": "3d3c9f68-759d-4094-80fd-9c0a57fd28ec",
   "metadata": {},
   "outputs": [
    {
     "name": "stderr",
     "output_type": "stream",
     "text": [
      "BertForMaskedLM has generative capabilities, as `prepare_inputs_for_generation` is explicitly overwritten. However, it doesn't directly inherit from `GenerationMixin`. From 👉v4.50👈 onwards, `PreTrainedModel` will NOT inherit from `GenerationMixin`, and this model will lose the ability to call `generate` and other related functions.\n",
      "  - If you're using `trust_remote_code=True`, you can get rid of this warning by loading the model with an auto class. See https://huggingface.co/docs/transformers/en/model_doc/auto#auto-classes\n",
      "  - If you are the owner of the model architecture code, please modify your model class such that it inherits from `GenerationMixin` (after `PreTrainedModel`, otherwise you'll get an exception).\n",
      "  - If you are not the owner of the model architecture class, please contact the model code owner to update it.\n"
     ]
    }
   ],
   "source": [
    "model_id = \"/share/home/pwmat/Huggingface_Model_Downloades/MatBERT_model/matbert-base-cased\"\n",
    "model = BertForMaskedLM.from_pretrained(model_id)\n",
    "tokenizer = BertTokenizerFast.from_pretrained(model_id, do_lower_case=False)"
   ]
  },
  {
   "cell_type": "code",
   "execution_count": 3,
   "id": "c0a4e649-574f-4d6f-8678-e9dcde6a15eb",
   "metadata": {},
   "outputs": [],
   "source": [
    "# 提取所有词向量\n",
    "all_word_embeddings = []\n",
    "all_words = []\n",
    "for word in tokenizer.vocab.keys():\n",
    "    if word.isalnum():  # 只选择字母数字组合的词，排除特殊标记\n",
    "        token_id = tokenizer.encode(word, add_special_tokens=False)\n",
    "        if len(token_id) == 1:  # 确保词没有分词成多个子词\n",
    "            token_id = torch.tensor(token_id).unsqueeze(0)\n",
    "            embeddings = model.bert.embeddings.word_embeddings(token_id)\n",
    "            all_word_embeddings.append(embeddings.squeeze().detach().numpy())\n",
    "            all_words.append(word)\n",
    "\n",
    "all_word_embeddings = np.array(all_word_embeddings)"
   ]
  },
  {
   "cell_type": "code",
   "execution_count": 4,
   "id": "4fc513aa-7436-42a9-af85-8468d458391f",
   "metadata": {},
   "outputs": [
    {
     "name": "stdout",
     "output_type": "stream",
     "text": [
      "CPU times: user 2min 23s, sys: 5.82 s, total: 2min 29s\n",
      "Wall time: 22.4 s\n"
     ]
    }
   ],
   "source": [
    "%%time\n",
    "from umap import UMAP\n",
    "# 使用UMAP进行降维\n",
    "reducer = UMAP()\n",
    "embeddings_umap = reducer.fit_transform(all_word_embeddings)"
   ]
  },
  {
   "cell_type": "code",
   "execution_count": 5,
   "id": "0b7408cc-eb33-4298-b619-b888b9f0b123",
   "metadata": {},
   "outputs": [],
   "source": [
    " # 目标词汇1\n",
    "word3_token = tokenizer.encode(\"photovoltaic\", add_special_tokens=False)\n",
    "word3_embedding = model.bert.embeddings.word_embeddings(torch.tensor(word3_token)).squeeze().detach().numpy()\n",
    "cos_word3 = cosine_similarity(all_word_embeddings, [word3_embedding])"
   ]
  },
  {
   "cell_type": "code",
   "execution_count": 6,
   "id": "8ff37306-40b0-4f09-be74-f3ead9a0c02d",
   "metadata": {},
   "outputs": [],
   "source": [
    "# 定义要比较的词\n",
    "target_word1 = \"photovoltaic\"\n",
    "# 计算目标词与所有其他词的余弦相似度\n",
    "target_token_id = tokenizer.encode(target_word1, add_special_tokens=False)\n",
    "target_embedding = model.bert.embeddings.word_embeddings(torch.tensor(target_token_id)).squeeze().detach().numpy()\n",
    "cos_similarities2 = cosine_similarity(all_word_embeddings, [target_embedding])\n",
    "# 对相似度进行排序并获取排序后的索引\n",
    "sorted_indices = np.argsort(cos_similarities2.flatten())[::-1]\n",
    "\n",
    "# 打印排名和相似度\n",
    "sum = []\n",
    "# print(\"cosine similarity for '{}':\".format(target_word1))\n",
    "i = 0\n",
    "for rank, idx in enumerate(sorted_indices):\n",
    "    word = all_words[idx]\n",
    "    similarity = cos_similarities2[idx][0]\n",
    "    # print(\"{}: {}(Cosine Similarity: {:.4f})\".format(rank + 1, word, similarity))\n",
    "    sum.append(word)\n",
    "    i += 1\n",
    "    if i == 500:\n",
    "        break"
   ]
  },
  {
   "cell_type": "code",
   "execution_count": 11,
   "id": "61857671-5b41-4ef8-95b4-c5d6b784f86b",
   "metadata": {},
   "outputs": [
    {
     "name": "stdout",
     "output_type": "stream",
     "text": [
      "'DSSCs' - Rank: 11, Cosine Similarity: 0.5105\n",
      "'DSSC' - Rank: 7, Cosine Similarity: 0.5387\n",
      "'DSCs' - Rank: 53, Cosine Similarity: 0.4643\n",
      "'SOFCs' - Rank: 129, Cosine Similarity: 0.4270\n",
      "'MFCs' - Rank: 419, Cosine Similarity: 0.3974\n",
      "'DMFC' - Rank: 286, Cosine Similarity: 0.4053\n",
      "'PSCs' - Rank: 33, Cosine Similarity: 0.4793\n",
      "'OLEDs' - Rank: 278, Cosine Similarity: 0.4058\n",
      "'LIBs' not found in the rankings.\n",
      "'SOFC' - Rank: 97, Cosine Similarity: 0.4367\n",
      "'OPV' - Rank: 10, Cosine Similarity: 0.5187\n",
      "'OLED' - Rank: 122, Cosine Similarity: 0.4279\n",
      "'PEMFC' not found in the rankings.\n",
      "'PV' - Rank: 16, Cosine Similarity: 0.4984\n",
      "'LEDs' - Rank: 452, Cosine Similarity: 0.3956\n",
      "'PMT' not found in the rankings.\n",
      "'PEC' not found in the rankings.\n",
      "'PECVD' - Rank: 259, Cosine Similarity: 0.4075\n",
      "'LiCoO2' - Rank: 191, Cosine Similarity: 0.4164\n",
      "'LiNbO3' - Rank: 469, Cosine Similarity: 0.3947\n",
      "'Li4Ti5O12' - Rank: 221, Cosine Similarity: 0.4124\n",
      "'LiClO4' - Rank: 334, Cosine Similarity: 0.4019\n",
      "'Li' not found in the rankings.\n",
      "'Ni' not found in the rankings.\n",
      "'SnS2' - Rank: 462, Cosine Similarity: 0.3952\n",
      "'TiO2' not found in the rankings.\n",
      "'MoSe2' - Rank: 247, Cosine Similarity: 0.4085\n",
      "'SiH4' - Rank: 448, Cosine Similarity: 0.3956\n",
      "'CdSe' - Rank: 427, Cosine Similarity: 0.3969\n",
      "'Na2HPO4' - Rank: 449, Cosine Similarity: 0.3956\n",
      "'Bi2Te3' - Rank: 146, Cosine Similarity: 0.4243\n",
      "'SnS' - Rank: 407, Cosine Similarity: 0.3979\n",
      "'Bi2Se3' - Rank: 414, Cosine Similarity: 0.3977\n",
      "'PCBM' - Rank: 203, Cosine Similarity: 0.4146\n",
      "'PC71BM' - Rank: 161, Cosine Similarity: 0.4219\n",
      "'Si' not found in the rankings.\n",
      "'GaSb' - Rank: 166, Cosine Similarity: 0.4210\n",
      "'PbSe' - Rank: 348, Cosine Similarity: 0.4012\n",
      "'PbTe' - Rank: 192, Cosine Similarity: 0.4164\n",
      "'CuInS2' - Rank: 44, Cosine Similarity: 0.4728\n",
      "'CuInSe2' not found in the rankings.\n",
      "'CIGS' - Rank: 57, Cosine Similarity: 0.4632\n",
      "'MAPbI3' - Rank: 127, Cosine Similarity: 0.4275\n",
      "'CH3NH3PbI3' - Rank: 93, Cosine Similarity: 0.4400\n",
      "'Bi2S3' - Rank: 288, Cosine Similarity: 0.4052\n",
      "'Bi2WO6' - Rank: 125, Cosine Similarity: 0.4275\n",
      "'BiVO4' - Rank: 148, Cosine Similarity: 0.4238\n",
      "'Al2O3' not found in the rankings.\n",
      "'ZnO' not found in the rankings.\n",
      "'CuO' not found in the rankings.\n",
      "'CdTe' not found in the rankings.\n",
      "'ZnS' not found in the rankings.\n",
      "'SnO2' not found in the rankings.\n",
      "'Na2Ti3O7' not found in the rankings.\n",
      "'MnO2' not found in the rankings.\n",
      "'P25' not found in the rankings.\n",
      "'Y2O3' not found in the rankings.\n",
      "'Sb2S3' not found in the rankings.\n",
      "'SiO2' not found in the rankings.\n"
     ]
    }
   ],
   "source": [
    "# 定义要比较的词\n",
    "target_word1 = \"photovoltaic\"\n",
    "# 计算目标词与所有其他词的余弦相似度\n",
    "target_token_id = tokenizer.encode(target_word1, add_special_tokens=False)\n",
    "target_embedding = model.bert.embeddings.word_embeddings(torch.tensor(target_token_id)).squeeze().detach().numpy()\n",
    "cos_similarities2 = cosine_similarity(all_word_embeddings, [target_embedding])\n",
    "\n",
    "# 对相似度进行排序并获取排序后的索引\n",
    "sorted_indices = np.argsort(cos_similarities2.flatten())[::-1]\n",
    "\n",
    "# 保存词汇及其余弦相似度和排名\n",
    "word_rankings = {}\n",
    "\n",
    "# 打印排名和相似度，并将其保存到字典中\n",
    "for rank, idx in enumerate(sorted_indices):\n",
    "    word = all_words[idx]\n",
    "    similarity = cos_similarities2[idx][0]\n",
    "    word_rankings[word] = {\"rank\": rank + 1, \"similarity\": similarity}  # 保存排名和相似度\n",
    "    # 如果只需要前500个，可以加一个限制\n",
    "    if rank == 499:\n",
    "        break\n",
    "\n",
    "words = ['DSSCs', 'DSSC', 'DSCs', 'SOFCs', 'MFCs', 'DMFC', 'PSCs', 'OLEDs', 'LIBs', 'SOFC', 'OPV', 'OLED', 'PEMFC', 'PV',\n",
    "         'LEDs', 'PMT', 'PEC', 'PECVD', 'LiCoO2', 'LiNbO3', 'Li4Ti5O12', 'LiClO4', 'Li', 'Ni', 'SnS2', 'TiO2', 'MoSe2', 'SiH4', \n",
    "         'CdSe', 'Na2HPO4', 'Bi2Te3', 'SnS', 'Bi2Se3', 'PCBM', 'PC71BM', 'Si', 'GaSb', 'PbSe', 'PbTe', 'CuInS2', 'CuInSe2', 'CIGS', \n",
    "         'MAPbI3', 'CH3NH3PbI3', 'Bi2S3', 'Bi2WO6', 'BiVO4', 'Al2O3', 'ZnO', 'CuO', 'CdTe', 'ZnS', 'SnO2', 'Na2Ti3O7', 'MnO2', 'P25', \n",
    "         'Y2O3', 'Sb2S3', 'SiO2']\n",
    "\n",
    "\n",
    "# 示例：查询某个词的排名和相似度\n",
    "for word in words:\n",
    "    word_to_query = word  # 你想查询的词\n",
    "    if word_to_query in word_rankings:\n",
    "        print(f\"'{word_to_query}' - Rank: {word_rankings[word_to_query]['rank']}, Cosine Similarity: {word_rankings[word_to_query]['similarity']:.4f}\")\n",
    "    else:\n",
    "        print(f\"'{word_to_query}' not found in the rankings.\")\n",
    "\n",
    "# 如果你想查看所有词的排名和相似度，可以遍历字典\n",
    "# for word, info in word_rankings.items():\n",
    "#     print(f\"{word}: Rank {info['rank']}, Similarity {info['similarity']:.4f}\")\n"
   ]
  },
  {
   "cell_type": "code",
   "execution_count": 18,
   "id": "aa2c66f0-c17a-4502-98fe-95e0712f18d8",
   "metadata": {
    "collapsed": true,
    "jupyter": {
     "outputs_hidden": true,
     "source_hidden": true
    },
    "scrolled": true
   },
   "outputs": [
    {
     "name": "stdout",
     "output_type": "stream",
     "text": [
      "['photovoltaic', 'photovoltaics', 'photoelectrochemical', 'optoelectronic', 'photoelectric', 'photovoltage', 'DSSC', 'photoelectro', 'photoconduc', 'OPV', 'DSSCs', 'photochromic', 'IPCE', 'photodetectors', 'thermoelectric', 'PV', 'photoanodes', 'photophysical', 'optoelectronics', 'photodiode', 'Jsc', 'photoconductivity', 'photodetector', 'photocurrent', 'photoactivity', 'photosensitiz', 'microalgal', 'photogen', 'photoanode', 'supercapacitor', 'Photoluminescence', 'electroluminescence', 'PSCs', 'electrochromic', 'antiproliferative', 'supercapacitors', 'photoactive', 'Electrochemical', 'sensitizers', 'photosensitizer', 'photosensi', 'photothermal', 'electroly', 'CuInS2', 'Solar', 'photoexc', 'CuIn', 'pervaporation', 'photovolta', 'Electricity', 'pyroelectric', 'supercapac', 'DSCs', 'electrol', 'Photoc', 'photocatalytic', 'CIGS', 'Josephson', 'photoan', 'polyvinyl', 'electropor', 'microalg', 'photoresponse', 'electrocatalytic', 'photocatalysts', 'Neural', 'photoproduc', 'JSC', 'semiconduc', 'superconduc', 'cytotox', 'Electr', 'photoin', 'perchlor', 'magnetoelectric', 'renewables', 'photoiniti', 'semiconducting', 'BHJ', 'antitumor', 'terahertz', 'Renewable', 'microelectro', 'photocatalysis', 'volati', 'photodet', 'Rashba', 'photomultiplier', 'galactosidase', 'dibrom', 'photosynthetic', 'photoinduced', 'CH3NH3PbI3', 'heterojunctions', 'triclinic', 'anticancer', 'SOFC', 'spintronics', 'ηi', 'InGa', 'heterojunction', 'overpotentials', 'phthalocyanine', 'Economic', 'Seebeck', 'diode', 'Thermogravimetric', 'photostability', 'electr', 'excitonic', 'parabol', 'Cret', 'photod', 'neurodegenerative', 'Catalytic', 'fibroblasts', 'transistor', 'wavegu', 'bipyr', 'phthalocyanines', 'subcut', 'OLED', 'HVAC', 'Impedance', 'Bi2WO6', 'surpr', 'MAPbI3', 'isothi', 'SOFCs', 'sensitizer', 'Electrical', 'tariff', 'photoble', 'HepG2', 'polyelectroly', 'irrever', 'ö', 'diodes', 'spintr', 'Spectroscopic', 'faç', 'ф', 'subsidy', 'chemotherapeutic', 'voltamm', 'Bi2Te3', 'EQE', 'BiVO4', 'cytotoxic', 'pharmacokinetic', 'photoexcited', 'photochemical', 'landsc', 'Sb2', 'Porous', 'transistors', 'superhydroph', 'photoluminescence', 'spectrophotometric', 'subsidies', 'PC71BM', 'forecasts', 'SHEL', 'semiconductors', 'insolation', 'GaSb', 'dehumid', 'profitability', 'thienyl', 'bioenergy', 'replic', 'theore', 'ineffici', 'spectrophotometrically', 'hydropower', 'photodegradation', 'ZnPc', 'opto', 'solar', 'GaIn', 'Keith', 'desalination', 'reefs', 'stromal', 'PbI2', 'photolith', 'porph', 'caroten', 'corne', 'landslides', 'LiCoO2', 'PbTe', 'spectrophot', 'potentiostat', 'ψ1', 'inverter', 'Hamamatsu', 'BiOCl', 'rechargeable', 'holograph', 'plasmonic', 'Silic', 'PCBM', 'PtRu', 'electrooxidation', 'irradiance', 'profitable', 'microgrid', 'wors', 'photoexcitation', 'chronoamp', 'supercells', 'thermogravimetric', 'shad', 'η1', 'buses', 'TFTs', 'piezoelectric', 'photovol', 'HeLa', 'Li4Ti5O12', 'CZTS', 'forecasting', 'Voc', 'scintill', 'λj', 'antiviral', 'porphy', 'luciferase', 'rectifying', 'liposomal', 'S14', 'LaNi', 'Siem', 'ɳ', 'hyperbranched', 'spectros', 'conflu', 'nanotechn', 'Ernzerhof', 'microbi', 'coinc', 'hyperpolar', 'bj', 'enzym', 'phthalocyan', 'MoSe2', 'HEK293', 'thermopower', 'Electric', 'spik', 'herbicides', 'FETs', 'renewable', 'nanopartic', 'birefring', 'calorific', 'dumb', 'PECVD', 'socio', 'ferroelectrics', 'triphenyl', 'potentiodynamic', 'amperometric', 'carotenoids', 'д', 'senes', 'polyesters', 'lignocellulosic', 'nanocrystall', 'controversi', 'bioethanol', 'downreg', 'biocompati', 'herbic', 'Pyrex', 'recru', 'OLEDs', 'Parkinson', 'superhydrophobic', 'multiferro', 'mesenchymal', 'Tensile', 'Hewlett', 'mercapt', 'DMFC', 'CuPc', 'Bi2S3', 'vehic', 'photochemistry', 'Ĥ', 'senescence', 'basaltic', 'neurological', 'Kore', 'û', 'biodegrad', 'nanocomp', 'enh', 'calorimetric', 'centros', 'vj', 'oscill', 'electrocatalysts', 'insectic', 'Rankine', 'lysed', 'emerg', 'electrochrom', 'SiNWs', 'renormal', 'illum', 'roofs', 'neuronal', 'fullerenes', 'photocatalyst', 'biosensing', 'nanoporous', 'butyric', 'superlattices', 'shading', 'tomato', 'foss', 'PDT', 'stilb', 'adipocytes', 'Jasco', 'Promega', 'Estim', 'scienti', 'bioref', 'southwestern', 'dibromo', 'LiClO4', 'spont', 'rainy', 'Phot', 'ж', 'seism', 'diphenylphosph', 'MEH', 'pseudocapac', 'cloudy', 'silicene', 'Evalu', 'cancers', 'galvanic', 'PbSe', 'citiz', 'phosphatidyl', 'Lithium', 'pozzol', 'statis', 'fibroblast', 'evapotranspiration', 'femtosecond', 'nanocarriers', 'İ', 'overestim', 'Ż', 'electropolymerization', 'colorimetric', 'photopolymer', 'bene', 'biofuels', 'cogeneration', 'Soci', '1019', 'Biomass', 'chalc', 'disapp', 'ⅇ', 'ferrim', 'Е', 'malign', 'cardiomyocytes', 'inkjet', 'transpar', 'Fortun', 'proj', '1021', 'meteorological', 'nanofibrous', 'bluesh', 'pyran', 'melanoma', 'ℏω', 'cyanobacteria', 'η3', 'semicirc', 'Orig', 'geothermal', 'ellipso', 'Ē', 'ponds', 'geomorph', 'tetranuclear', 'irradi', 'capacit', 'ĥ', 'phthal', 'intertidal', 'polypyr', 'wavel', 'depos', 'chiller', 'SnS', 'Ti6', 'prestr', 'ψ0', 'perovsk', 'lasing', 'ferroelectric', 'Bi2Se3', 'chalcopyrite', 'Tafel', 'Films', 'unsupp', 'MFCs', 'bott', 'frustr', 'granitic', 'happ', 'effici', 'PPh2', 'MOSFETs', 'CdSe', 'biomedical', 'terephthal', 'financ', 'photosynthesis', 'thermophysical', 'polariton', 'solvothermal', 'decentral', 'nanotub', 'rectif', 'PVT', 'explor', 'climat', 'turbul', 'sched', 'dicarboxylic', 'biosensors', 'neurode', 'Infrared', 'photost', 'SiH4', 'Na2HPO4', 'quas', 'tetraphenyl', 'LEDs', 'diamin', 'tourism', 'encryp', 'pyroclastic', 'Rhodamine', '387', 'subcutaneous', 'MWh', 'zirc', 'SnS2', 'proliferative', 'Partic', 'capacitive', 'Sustain', 'Photo', 'poled', 'LiNbO3', 'nonradiative', 'cytotoxicity', 'incen', 'Mo6', 'immunobl', 'plurip', 'lymphocytes', 'polyelectrolytes', 'therapies', 'pyridinium', 'carotene', 'ʋ', 'mons', 'intraper', 'superconductor', 'spind', 'differenti', 'transporters', 'bioreactors', 'commerc', 'passi', 'Thermodynamic', 'Indones', 'micell', 'antioxid', 'cass', 'flocc', 'Ê', 'tetrabutylammonium', 'ted', 'encaps']\n"
     ]
    }
   ],
   "source": [
    "print(sum)"
   ]
  },
  {
   "cell_type": "markdown",
   "id": "822aedf7-2728-43fc-b740-7a67ee49ae5f",
   "metadata": {},
   "source": [
    "#### ChatGPT提取出的化学式（余弦相似性排名前500）  \n",
    "['DSSC', 'OPV', 'DSSCs', 'IPCE', 'PV', 'PSCs', 'CuInS2', 'CuIn', 'DSCs', 'CIGS', 'JSC', 'BHJ', 'CH3NH3PbI3', 'SOFC', \n",
    "'InGa', 'OLED', 'HVAC', 'Bi2WO6', 'MAPbI3', 'SOFCs', 'Bi2Te3', 'EQE', 'BiVO4', 'Sb2', 'PC71BM', 'SHEL', 'GaSb', 'ZnPc', \n",
    "'GaIn', 'PbI2', 'LiCoO2', 'PbTe', 'BiOCl', 'PCBM', 'PtRu', 'TFTs', 'HeLa', 'Li4Ti5O12', 'CZTS', 'S14', 'LaNi', 'MoSe2', \n",
    "'HEK293', 'FETs', 'PECVD', 'OLEDs', 'DMFC', 'CuPc', 'Bi2S3', 'SiNWs', 'PDT', 'LiClO4', 'MEH', 'PbSe', 'SnS', 'Ti6', 'Bi2Se3', \n",
    "'MFCs', 'PPh2', 'MOSFETs', 'CdSe', 'PVT', 'SiH4', 'Na2HPO4', 'LEDs', 'MWh', 'SnS2', 'LiNbO3', 'Mo6']\n"
   ]
  },
  {
   "cell_type": "code",
   "execution_count": 19,
   "id": "f51ad78b-dc0e-43cd-a10d-003cf6eff291",
   "metadata": {
    "jupyter": {
     "source_hidden": true
    }
   },
   "outputs": [],
   "source": [
    " # 目标词汇1\n",
    "word3_token = tokenizer.encode(\"perovskite\", add_special_tokens=False)\n",
    "word3_embedding = model.bert.embeddings.word_embeddings(torch.tensor(word3_token)).squeeze().detach().numpy()\n",
    "cos_word3 = cosine_similarity(all_word_embeddings, [word3_embedding])"
   ]
  },
  {
   "cell_type": "code",
   "execution_count": 20,
   "id": "268fa335-19ec-45b1-9f8d-03c6e0ea5bb4",
   "metadata": {
    "jupyter": {
     "source_hidden": true
    }
   },
   "outputs": [],
   "source": [
    "# 定义要比较的词\n",
    "target_word1 = \"perovskite\"\n",
    "# 计算目标词与所有其他词的余弦相似度\n",
    "target_token_id = tokenizer.encode(target_word1, add_special_tokens=False)\n",
    "target_embedding = model.bert.embeddings.word_embeddings(torch.tensor(target_token_id)).squeeze().detach().numpy()\n",
    "cos_similarities2 = cosine_similarity(all_word_embeddings, [target_embedding])\n",
    "# 对相似度进行排序并获取排序后的索引\n",
    "sorted_indices = np.argsort(cos_similarities2.flatten())[::-1]\n",
    "\n",
    "# 打印排名和相似度\n",
    "sum = []\n",
    "# print(\"cosine similarity for '{}':\".format(target_word1))\n",
    "i = 0\n",
    "for rank, idx in enumerate(sorted_indices):\n",
    "    word = all_words[idx]\n",
    "    similarity = cos_similarities2[idx][0]\n",
    "    # print(\"{}: {}(Cosine Similarity: {:.4f})\".format(rank + 1, word, similarity))\n",
    "    sum.append(word)\n",
    "    i += 1\n",
    "    if i == 500:\n",
    "        break"
   ]
  },
  {
   "cell_type": "code",
   "execution_count": 21,
   "id": "2acd4728-c7c2-4c8e-a75e-77e8e6f2496b",
   "metadata": {
    "collapsed": true,
    "jupyter": {
     "outputs_hidden": true
    },
    "scrolled": true
   },
   "outputs": [
    {
     "name": "stdout",
     "output_type": "stream",
     "text": [
      "['perovskite', 'perovskites', 'pyrochlore', 'CH3NH3PbI3', 'MAPbI3', 'spinel', 'fluorite', 'perovsk', 'ferroelectricity', 'BaTiO3', 'PbI2', 'SrTiO3', 'CH3NH3', 'ferroelectrics', 'ilmenite', 'BiFeO3', 'ferroelectric', 'manganites', 'lanthanum', 'wurtzite', 'LSCF', 'PSCs', 'apatite', 'superlattice', 'hematite', 'lanthan', 'Heusler', 'La2', 'chalcopyrite', 'La2O3', 'relaxor', 'octahedra', 'CZTS', 'Keggin', 'rutile', 'mullite', 'Sr2', 'commercialization', 'BFO', 'PZT', 'titanate', 'rhombohedral', 'BTO', 'PbSe', 'La0', 'perchlor', 'La3', 'limestones', 'photosynthesis', 'orthorhombic', 'Bi2WO6', 'PbO', 'strontium', 'FOX', 'hydrotalcite', 'BHJ', 'mesoporous', 'irreduc', 'ferrites', 'Nb2O5', 'SOFCs', 'photosynthetic', 'anatase', 'phosphines', 'photoanode', 'olivine', 'HfO2', 'SrO', 'CIGS', 'CoFe2O4', 'PANalytical', 'PbTe', 'LiCoO2', 'sple', 'opal', 'auth', 'photoble', 'MnOx', 'pseudoc', 'BiOCl', 'faradaic', 'pyroelectric', 'poled', 'zeolitic', 'superstruct', 'ineff', 'heterostructures', 'L10', 'Pluronic', 'cuprates', 'LSMO', 'PSII', 'superlattices', 'Ti4', 'lamell', 'clinker', 'YBCO', 'г', 'rifting', 'BST', 'Ho3', 'phthalocyanines', 'heterostructure', 't2g', 'phthalocyan', 'octahedron', 'Rietveld', 'clathrate', 'SAPO', 'nitrification', 'photoconduc', 'clinopyroxene', 'SOFC', 'Kirch', 'SHEL', 'epitaxially', 'honeycomb', 'NBT', 'PMe3', 'transesterification', 'lanthanide', 'polyesters', 'Ln3', 'lanthanides', 'PbO2', 'Pr3', 'hippocampal', 'tetragonal', 'phosphorescent', 'Li4Ti5O12', 'ZnFe2O4', 'PbS', 'UiO', 'silicene', 'reddish', 'LiNbO3', 'volati', 'Co3O4', 'Bi2S3', 'limestone', 'Clark', 'microalgal', 'Calcium', 'ceramics', 'upconversion', 'MOF', 'basalts', 'innov', 'cyclobut', 'benzylic', 'L12', 'BiOI', 'phthalocyanine', 'trifluorometh', 'photoemission', 'BaO', 'NiO', '1486', 'garnet', 'bipyramidal', 'photocatalysts', 'PC71BM', 'LSM', 'photodetectors', 'algal', 'monocl', 'calcined', 'agon', 'melanoma', 'PMN', 'Yangtze', 'Carlsbad', 'culturing', 'BO3', 'Γ1', 'nanocrystallites', 'poling', 'felsic', 'MPB', 'heterojunction', 'MOFs', 'MoSe2', 'controversi', 'Methanol', 'TiOx', 'superexchange', 'plagioclase', 'formul', 'Electricity', 'perylene', 'δx', 'lignocellulosic', 'microalg', 'halide', 'perfluor', 'InSb', 'KNN', 'adduc', 'C33', 'ferromagnet', 'succes', '13b', 'polyelectrolyte', 'yellowish', 'chlorobenzene', 'mammary', 'Li4', 'pentacene', 'pyrox', 'mesos', 'nanocubes', 'granites', 'Microwave', 'pervaporation', 'magmatism', 'Polyc', 'microcracks', 'isoprop', 'CaF2', 'photocatalysis', 'hepat', 'spintr', 'Ag3PO4', 'quatern', 'emphas', 'LaNi', 'heterojunctions', 'magnetoelectric', 'μeff', 'Powder', 'paclitaxel', 'octahedral', 'excitons', 'Permian', 'pseudocapac', 'terpyridine', 'nitrides', 'cub', 'Co0', 'monodentate', 'photoanodes', 'Fe4', 'photoexc', 'macroporous', 'microemulsions', 'polarons', 'Mn3O4', 'mang', 'Devices', 'Ca3', 'seaf', 'photoactivity', 'granit', 'C3H8', 'Bi2O3', 'Crystals', 'MODIS', 'UCNPs', 'WO3', 'QWs', 'LiBH4', 'smectite', 'Guang', 'electrochrom', 'singlets', 'wireless', 'blooms', '673', 'stripe', 'IrO2', 'plurip', 'Porous', 'crystallizes', 'tetrabutyl', 'oceans', 'ferrom', 'borohydride', 'zeolites', 'Oz', 'Semic', 'eclog', 'Bi3', 'spectrofluor', 'virt', 'arthritis', 'amphiph', 'Fick', 'unmod', 'Photoluminescence', 'NiCo2O4', 'competit', 'sphe', 'Baltic', 'crucibles', 'YSZ', 'nanofibrous', 'intermetallics', 'photobleaching', 'hippocampus', 'unfav', 'boehmite', 'igneous', 'laminated', 'Malay', 'ettringite', 'unnecess', 'RuII', 'Rank', 'antifer', 'sublattices', 'Hydrox', 'tetranuclear', 'BEA', 'Ernzerhof', 'clays', 'ferromagnetism', 'Commercial', 'soc', 'PI3K', 'Eocene', 'Jahn', 'photoactive', 'chlorination', 'triazine', 'photovol', 'superconductor', 'superconduc', 'LTA', 'GaSb', 'LiMn', 'Electr', 'MTBE', 'bipyram', 'centros', 'tantal', 'Ba2', 'Impedance', 'roug', 'volunt', 'pow', 'aromatics', 'Peninsula', 'axons', 'FAME', 'SRO', 'Alfa', 'microns', 'rechargeable', 'Cr2O3', 'barium', 'faun', 'pozzolanic', 'PSC', 'δt', 'ceramic', 'tridentate', 'ж', 'upregulation', 'volatilization', 'xz', 'fullerene', 'STO', 'combustor', 'equil', 'halogenated', 'aragonite', 'Ta2O5', 'LDHs', 'ä', 'faulting', 'Membrane', 'frustr', 'BiVO4', 'Attemp', 'In2O3', 'conve', 'myel', 'photolith', 'A1g', 'neutrophils', 'obes', 'BODIPY', 'P123', 'austenitic', 'hexahydrate', 'alkal', 'CMR', 'keratin', 'ferrim', 'Clay', 'PCBM', 'isostructural', 'polysulf', 'LSC', 'incomm', 'pyramids', 'zircons', 'Rigaku', 'cytotox', 'pyrolyzed', 'hyperbranched', 'polypeptides', 'Proced', 'acetylacet', 'thermodynam', 'macrocycle', 'phospholipids', 'porphyrins', 'brazing', 'C32', 'Photoc', 'ferritic', 'Zr4', 'з', 'polyether', 'polyelectrolytes', 'mesoscopic', 'nanorod', 'retrof', 'corals', 'NaYF4', 'C44', 'LiFePO4', 'dolom', 'reefs', 'OLEDs', 'nanoporous', 'transfected', 'polyaniline', 'ч', 'Soxhlet', 'Rash', 'CoII', 'ĉ', 'DSCs', 'delith', 'multiferro', 'immunohist', 'metathe', 'BLA', 'fullerenes', 'calcite', 'Ni2P', 'mafic', 'Belt', 'Arrhen', 'byp', 'muscovite', 'tuff', 'PPh3', 'bricks', 'univers', 'superconductors', 'NEXAFS', 'zer', 'spintronics', 'I4', 'incin', 'hepatocytes', 'OMe', 'epithel', '2030', 'ωc', 'surg', 'Treg', 'esters', 'electrone', 'fossils', 'microemulsion', 'modulates', 'Rashba', 'RHEED', 'microcrack', 'pyroxene', 'SYBR', 'composting', 'propene', 'spiro', 'osteoblasts', 'PdO', 'х', 'Condon', 'photores', 'phot', 'STAT3', 'deploy', 'truss', 'forb', 'interfaced', 'C27', 'borane', 'dolomite', 'R13', 'photovoltaics', 'Aliqu', 'immunofluorescence', 'Mn2O3', '1273', 'halides', 'cycloprop']\n"
     ]
    }
   ],
   "source": [
    "print(sum)"
   ]
  },
  {
   "cell_type": "code",
   "execution_count": null,
   "id": "bc284fc6-4221-4dfb-94e9-8b1c1f3641a4",
   "metadata": {},
   "outputs": [],
   "source": []
  }
 ],
 "metadata": {
  "kernelspec": {
   "display_name": "llm",
   "language": "python",
   "name": "llm"
  },
  "language_info": {
   "codemirror_mode": {
    "name": "ipython",
    "version": 3
   },
   "file_extension": ".py",
   "mimetype": "text/x-python",
   "name": "python",
   "nbconvert_exporter": "python",
   "pygments_lexer": "ipython3",
   "version": "3.10.13"
  }
 },
 "nbformat": 4,
 "nbformat_minor": 5
}
