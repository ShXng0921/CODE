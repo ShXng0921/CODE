{
 "cells": [
  {
   "cell_type": "markdown",
   "id": "ac690a67-c830-4035-9f3e-81fbd1bb426b",
   "metadata": {},
   "source": [
    "#### MatBERT对目标词汇进行UMAP降维后欧氏距离排名与余弦相似性排名(top 500)的共同元素:(photovoltaic)\n",
    "['DSSCs', 'DSSC', 'DSCs', 'SOFCs', 'MFCs', 'DMFC', 'PSCs', 'OLEDs', 'LIBs', 'SOFC', 'OPV', 'OLED', 'PEMFC', 'PV', 'LEDs', 'PMT', 'PEC', 'PECVD', 'LiCoO2', 'LiNbO3', 'Li4Ti5O12', 'LiClO4', 'Li', 'Ni', 'SnS2', 'TiO2', 'MoSe2', 'SiH4', 'CdSe', 'Na2HPO4', 'Bi2Te3', 'SnS', 'Bi2Se3', 'PCBM', 'PC71BM', 'Si', 'GaSb', 'PbSe', 'PbTe', 'CuInS2', 'CuInSe2', 'CIGS', 'MAPbI3', 'CH3NH3PbI3', 'Bi2S3', 'Bi2WO6', 'BiVO4']\n",
    "\n"
   ]
  },
  {
   "cell_type": "markdown",
   "id": "97e7b8cc-5a04-4392-b9a1-0cd57fc44f0e",
   "metadata": {},
   "source": [
    "'DSSC' - Rank: 7, Cosine Similarity: 0.5387   \n",
    "'OPV' - Rank: 10, Cosine Similarity: 0.5187 # 有机光伏（OPV, Organic Photovoltaics）  \n",
    "'PV' - Rank: 16, Cosine Similarity: 0.4984   \n",
    "'PSCs' - Rank: 33, Cosine Similarity: 0.4793 # 钙钛矿太阳能电池，Perovskite Solar Cells）  \n",
    "'CuInS2' - Rank: 44, Cosine Similarity: 0.4728  \n",
    "'CIGS' - Rank: 57, Cosine Similarity: 0.4632  \n",
    "'CH3NH3PbI3' - Rank: 93, Cosine Similarity: 0.4400  \n",
    "'SOFC' - Rank: 97, Cosine Similarity: 0.4367 # (固体氧化物燃料电池，Solid Oxide Fuel Cell)  \n",
    "'OLED' - Rank: 122, Cosine Similarity: 0.4279  \n",
    "'Bi2WO6' - Rank: 125, Cosine Similarity: 0.4275  \n",
    "'MAPbI3' - Rank: 127, Cosine Similarity: 0.4275  \n",
    "'Bi2Te3' - Rank: 146, Cosine Similarity: 0.4243  \n",
    "'BiVO4' - Rank: 148, Cosine Similarity: 0.4238  \n",
    "'PC71BM' - Rank: 161, Cosine Similarity: 0.4219  \n",
    "'GaSb' - Rank: 166, Cosine Similarity: 0.4210  \n",
    "'LiCoO2' - Rank: 191, Cosine Similarity: 0.4164  \n",
    "'PbTe' - Rank: 192, Cosine Similarity: 0.4164  \n",
    "'PCBM' - Rank: 203, Cosine Similarity: 0.4146   \n",
    "'Li4Ti5O12' - Rank: 221, Cosine Similarity: 0.4124    \n",
    "'MoSe2' - Rank: 247, Cosine Similarity: 0.4085  \n",
    "'PECVD' - Rank: 259, Cosine Similarity: 0.4075  \n",
    "'DMFC' - Rank: 286, Cosine Similarity: 0.4053  \n",
    "'Bi2S3' - Rank: 288, Cosine Similarity: 0.4052  \n",
    "'LiClO4' - Rank: 334, Cosine Similarity: 0.4019  \n",
    "'PbSe' - Rank: 348, Cosine Similarity: 0.4012      \n",
    "'SnS' - Rank: 407, Cosine Similarity: 0.3979  \n",
    "'Bi2Se3' - Rank: 414, Cosine Similarity: 0.3977  \n",
    "'MFCs' - Rank: 419, Cosine Similarity: 0.3974    \n",
    "'CdSe' - Rank: 427, Cosine Similarity: 0.3969  \n",
    "'SiH4' - Rank: 448, Cosine Similarity: 0.3956  \n",
    "'Na2HPO4' - Rank: 449, Cosine Similarity: 0.3956  \n",
    "'LEDs' - Rank: 452, Cosine Similarity: 0.3956  \n",
    "'SnS2' - Rank: 462, Cosine Similarity: 0.3952   \n",
    "'LiNbO3' - Rank: 469, Cosine Similarity: 0.3947        "
   ]
  },
  {
   "cell_type": "markdown",
   "id": "bca536aa-2cac-4b31-ab11-31e0347144cf",
   "metadata": {},
   "source": [
    "#### MatBERT对目标词汇进行UMAP降维后欧氏距离排名与余弦相似性排名(top 500)的共同元素:(perovskite)  \n",
    "['CH3NH3PbI3', 'MAPbI3', 'BaTiO3', 'PbI2', 'SrTiO3', 'CH3NH3', 'BiFeO3', 'LSCF', 'PSCs', 'BFO', 'PZT', 'BTO', 'PbSe', 'La0', 'La2O3', 'CZTS', 'Keggin', 'Nb2O5', 'SOFCs', 'anatase', 'CIGS', 'CoFe2O4', 'PbTe', 'LiCoO2', 'Li4Ti5O12', 'ZnFe2O4', 'PbS', 'LiNbO3', 'Co3O4', 'Bi2S3', 'CaF2', 'Ag3PO4', 'LiMn', 'Bi2O3', 'LiBH4', 'WO3', 'Li4', 'LiFePO4', 'NaYF4', 'CoII', 'DSCs', 'Ni2P', 'Mn2O3']\n"
   ]
  },
  {
   "cell_type": "code",
   "execution_count": null,
   "id": "c2c60bfc-5ad1-4ecf-92fd-54063c80080a",
   "metadata": {},
   "outputs": [],
   "source": []
  }
 ],
 "metadata": {
  "kernelspec": {
   "display_name": "llm",
   "language": "python",
   "name": "llm"
  },
  "language_info": {
   "codemirror_mode": {
    "name": "ipython",
    "version": 3
   },
   "file_extension": ".py",
   "mimetype": "text/x-python",
   "name": "python",
   "nbconvert_exporter": "python",
   "pygments_lexer": "ipython3",
   "version": "3.10.13"
  }
 },
 "nbformat": 4,
 "nbformat_minor": 5
}
